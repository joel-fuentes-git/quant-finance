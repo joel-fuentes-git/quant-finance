{
 "cells": [
  {
   "cell_type": "markdown",
   "metadata": {},
   "source": [
    "# Nordstrom-Ford Regression (in Python)"
   ]
  },
  {
   "cell_type": "markdown",
   "metadata": {},
   "source": [
    "Daily price regression of closing prices for JWN and F"
   ]
  },
  {
   "cell_type": "code",
   "execution_count": 5,
   "metadata": {
    "collapsed": true
   },
   "outputs": [],
   "source": [
    "%matplotlib inline"
   ]
  },
  {
   "cell_type": "code",
   "execution_count": 6,
   "metadata": {
    "collapsed": false
   },
   "outputs": [],
   "source": [
    "import matplotlib.pyplot as plt\n",
    "import pandas as pd\n",
    "import numpy as np\n",
    "import scipy as sp\n",
    "import quandl\n",
    "import functools\n",
    "import seaborn as sns\n",
    "import statsmodels.formula.api as sm\n",
    "quandl.ApiConfig.api_key = 'i4S54y_7sYro1ygHmH44'"
   ]
  },
  {
   "cell_type": "code",
   "execution_count": 10,
   "metadata": {
    "collapsed": true
   },
   "outputs": [],
   "source": [
    "#memoized function for querying Quandl data\n",
    "@functools.lru_cache(maxsize=16)\n",
    "def fetch_quandl(my_securities):\n",
    "    print(\"Fetching from Quandl\")\n",
    "    qdata = quandl.get(list(my_securities), returns=\"pandas\")\n",
    "    return qdata"
   ]
  },
  {
   "cell_type": "code",
   "execution_count": 11,
   "metadata": {
    "collapsed": false
   },
   "outputs": [
    {
     "name": "stdout",
     "output_type": "stream",
     "text": [
      "Fetching from Quandl\n"
     ]
    }
   ],
   "source": [
    "# Data Fetching\n",
    "raw_data = fetch_quandl(('WIKI/F', \"WIKI/JWN\"))"
   ]
  },
  {
   "cell_type": "code",
   "execution_count": 14,
   "metadata": {
    "collapsed": false
   },
   "outputs": [],
   "source": [
    "#function for data cleaning\n",
    "def clean_quandl_columns(dataframe):\n",
    "    replacement_columns = {}\n",
    "    for c in dataframe.columns:\n",
    "        series_name, variable = c.split(' - ')\n",
    "        source_name, asset = series_name.split('/')\n",
    "        replacement_columns[c] = asset+\":\"+variable\n",
    "    renamed_data = dataframe.rename(columns=replacement_columns)\n",
    "    return renamed_data\n",
    "renamed_data = clean_quandl_columns(raw_data)\n",
    "final_data = renamed_data['20170619':'20170714']"
   ]
  },
  {
   "cell_type": "code",
   "execution_count": 16,
   "metadata": {
    "collapsed": false
   },
   "outputs": [
    {
     "name": "stderr",
     "output_type": "stream",
     "text": [
      "/usr/local/lib/python3.4/dist-packages/scipy-1.0.1-py3.4-linux-x86_64.egg/scipy/stats/stats.py:1390: UserWarning: kurtosistest only valid for n>=20 ... continuing anyway, n=19\n",
      "  \"anyway, n=%i\" % int(n))\n"
     ]
    },
    {
     "data": {
      "text/html": [
       "<table class=\"simpletable\">\n",
       "<caption>OLS Regression Results</caption>\n",
       "<tr>\n",
       "  <th>Dep. Variable:</th>           <td>jwn</td>       <th>  R-squared:         </th> <td>   0.004</td>\n",
       "</tr>\n",
       "<tr>\n",
       "  <th>Model:</th>                   <td>OLS</td>       <th>  Adj. R-squared:    </th> <td>  -0.055</td>\n",
       "</tr>\n",
       "<tr>\n",
       "  <th>Method:</th>             <td>Least Squares</td>  <th>  F-statistic:       </th> <td> 0.06352</td>\n",
       "</tr>\n",
       "<tr>\n",
       "  <th>Date:</th>             <td>Tue, 08 May 2018</td> <th>  Prob (F-statistic):</th>  <td> 0.804</td> \n",
       "</tr>\n",
       "<tr>\n",
       "  <th>Time:</th>                 <td>20:07:00</td>     <th>  Log-Likelihood:    </th> <td> -19.967</td>\n",
       "</tr>\n",
       "<tr>\n",
       "  <th>No. Observations:</th>      <td>    19</td>      <th>  AIC:               </th> <td>   43.93</td>\n",
       "</tr>\n",
       "<tr>\n",
       "  <th>Df Residuals:</th>          <td>    17</td>      <th>  BIC:               </th> <td>   45.82</td>\n",
       "</tr>\n",
       "<tr>\n",
       "  <th>Df Model:</th>              <td>     1</td>      <th>                     </th>     <td> </td>   \n",
       "</tr>\n",
       "<tr>\n",
       "  <th>Covariance Type:</th>      <td>nonrobust</td>    <th>                     </th>     <td> </td>   \n",
       "</tr>\n",
       "</table>\n",
       "<table class=\"simpletable\">\n",
       "<tr>\n",
       "      <td></td>         <th>coef</th>     <th>std err</th>      <th>t</th>      <th>P>|t|</th>  <th>[0.025</th>    <th>0.975]</th>  \n",
       "</tr>\n",
       "<tr>\n",
       "  <th>Intercept</th> <td>   49.4723</td> <td>   10.082</td> <td>    4.907</td> <td> 0.000</td> <td>   28.202</td> <td>   70.743</td>\n",
       "</tr>\n",
       "<tr>\n",
       "  <th>f</th>         <td>   -0.2312</td> <td>    0.917</td> <td>   -0.252</td> <td> 0.804</td> <td>   -2.167</td> <td>    1.704</td>\n",
       "</tr>\n",
       "</table>\n",
       "<table class=\"simpletable\">\n",
       "<tr>\n",
       "  <th>Omnibus:</th>       <td> 1.644</td> <th>  Durbin-Watson:     </th> <td>   1.067</td>\n",
       "</tr>\n",
       "<tr>\n",
       "  <th>Prob(Omnibus):</th> <td> 0.439</td> <th>  Jarque-Bera (JB):  </th> <td>   1.351</td>\n",
       "</tr>\n",
       "<tr>\n",
       "  <th>Skew:</th>          <td>-0.506</td> <th>  Prob(JB):          </th> <td>   0.509</td>\n",
       "</tr>\n",
       "<tr>\n",
       "  <th>Kurtosis:</th>      <td> 2.173</td> <th>  Cond. No.          </th> <td>    665.</td>\n",
       "</tr>\n",
       "</table>"
      ],
      "text/plain": [
       "<class 'statsmodels.iolib.summary.Summary'>\n",
       "\"\"\"\n",
       "                            OLS Regression Results                            \n",
       "==============================================================================\n",
       "Dep. Variable:                    jwn   R-squared:                       0.004\n",
       "Model:                            OLS   Adj. R-squared:                 -0.055\n",
       "Method:                 Least Squares   F-statistic:                   0.06352\n",
       "Date:                Tue, 08 May 2018   Prob (F-statistic):              0.804\n",
       "Time:                        20:07:00   Log-Likelihood:                -19.967\n",
       "No. Observations:                  19   AIC:                             43.93\n",
       "Df Residuals:                      17   BIC:                             45.82\n",
       "Df Model:                           1                                         \n",
       "Covariance Type:            nonrobust                                         \n",
       "==============================================================================\n",
       "                 coef    std err          t      P>|t|      [0.025      0.975]\n",
       "------------------------------------------------------------------------------\n",
       "Intercept     49.4723     10.082      4.907      0.000      28.202      70.743\n",
       "f             -0.2312      0.917     -0.252      0.804      -2.167       1.704\n",
       "==============================================================================\n",
       "Omnibus:                        1.644   Durbin-Watson:                   1.067\n",
       "Prob(Omnibus):                  0.439   Jarque-Bera (JB):                1.351\n",
       "Skew:                          -0.506   Prob(JB):                        0.509\n",
       "Kurtosis:                       2.173   Cond. No.                         665.\n",
       "==============================================================================\n",
       "\n",
       "Warnings:\n",
       "[1] Standard Errors assume that the covariance matrix of the errors is correctly specified.\n",
       "\"\"\""
      ]
     },
     "execution_count": 16,
     "metadata": {},
     "output_type": "execute_result"
    }
   ],
   "source": [
    "# Model Implementation\n",
    "f = final_data[\"F:Adj. Close\"]\n",
    "jwn = final_data[\"JWN:Adj. Close\"]\n",
    "mod1 = sm.ols('jwn~f',data=final_data).fit()\n",
    "mod1.summary()"
   ]
  },
  {
   "cell_type": "code",
   "execution_count": 17,
   "metadata": {
    "collapsed": false
   },
   "outputs": [
    {
     "data": {
      "text/plain": [
       "<matplotlib.text.Text at 0x7fda1592ee48>"
      ]
     },
     "execution_count": 17,
     "metadata": {},
     "output_type": "execute_result"
    },
    {
     "data": {
      "image/png": "[encoded data removed]",
      "text/plain": [
       "<matplotlib.figure.Figure at 0x7fda150c4898>"
      ]
     },
     "metadata": {},
     "output_type": "display_data"
    }
   ],
   "source": [
    "# Model Plot\n",
    "fig, ax = plt.subplots()\n",
    "splot = sns.regplot(\"F:Adj. Close\",\"JWN:Adj. Close\",data=final_data, ax=ax)\n",
    "fig.suptitle('JWN~F Daily Adjusted Close Prices, 06-19-2017 - 07-14-2017')"
   ]
  },
  {
   "cell_type": "code",
   "execution_count": 18,
   "metadata": {
    "collapsed": false
   },
   "outputs": [
    {
     "name": "stderr",
     "output_type": "stream",
     "text": [
      "/usr/local/lib/python3.4/dist-packages/IPython/kernel/__main__.py:2: SettingWithCopyWarning: \n",
      "A value is trying to be set on a copy of a slice from a DataFrame.\n",
      "Try using .loc[row_indexer,col_indexer] = value instead\n",
      "\n",
      "See the caveats in the documentation: http://pandas.pydata.org/pandas-docs/stable/indexing.html#indexing-view-versus-copy\n",
      "  from IPython.kernel.zmq import kernelapp as app\n",
      "/usr/local/lib/python3.4/dist-packages/IPython/kernel/__main__.py:3: SettingWithCopyWarning: \n",
      "A value is trying to be set on a copy of a slice from a DataFrame.\n",
      "Try using .loc[row_indexer,col_indexer] = value instead\n",
      "\n",
      "See the caveats in the documentation: http://pandas.pydata.org/pandas-docs/stable/indexing.html#indexing-view-versus-copy\n",
      "  app.launch_new_instance()\n"
     ]
    }
   ],
   "source": [
    "# Calculate the daily return for the two stocks during birthday month\n",
    "final_data['F:Ret']=final_data['F:Adj. Close'].pct_change(1)\n",
    "final_data['JWN:Ret']=final_data['JWN:Adj. Close'].pct_change(1)"
   ]
  },
  {
   "cell_type": "code",
   "execution_count": 20,
   "metadata": {
    "collapsed": false
   },
   "outputs": [
    {
     "name": "stderr",
     "output_type": "stream",
     "text": [
      "/usr/local/lib/python3.4/dist-packages/scipy-1.0.1-py3.4-linux-x86_64.egg/scipy/stats/stats.py:1390: UserWarning: kurtosistest only valid for n>=20 ... continuing anyway, n=18\n",
      "  \"anyway, n=%i\" % int(n))\n"
     ]
    },
    {
     "data": {
      "text/html": [
       "<table class=\"simpletable\">\n",
       "<caption>OLS Regression Results</caption>\n",
       "<tr>\n",
       "  <th>Dep. Variable:</th>         <td>JWN_ret</td>     <th>  R-squared:         </th> <td>   0.152</td>\n",
       "</tr>\n",
       "<tr>\n",
       "  <th>Model:</th>                   <td>OLS</td>       <th>  Adj. R-squared:    </th> <td>   0.099</td>\n",
       "</tr>\n",
       "<tr>\n",
       "  <th>Method:</th>             <td>Least Squares</td>  <th>  F-statistic:       </th> <td>   2.869</td>\n",
       "</tr>\n",
       "<tr>\n",
       "  <th>Date:</th>             <td>Tue, 08 May 2018</td> <th>  Prob (F-statistic):</th>  <td> 0.110</td> \n",
       "</tr>\n",
       "<tr>\n",
       "  <th>Time:</th>                 <td>20:12:27</td>     <th>  Log-Likelihood:    </th> <td>  51.164</td>\n",
       "</tr>\n",
       "<tr>\n",
       "  <th>No. Observations:</th>      <td>    18</td>      <th>  AIC:               </th> <td>  -98.33</td>\n",
       "</tr>\n",
       "<tr>\n",
       "  <th>Df Residuals:</th>          <td>    16</td>      <th>  BIC:               </th> <td>  -96.55</td>\n",
       "</tr>\n",
       "<tr>\n",
       "  <th>Df Model:</th>              <td>     1</td>      <th>                     </th>     <td> </td>   \n",
       "</tr>\n",
       "<tr>\n",
       "  <th>Covariance Type:</th>      <td>nonrobust</td>    <th>                     </th>     <td> </td>   \n",
       "</tr>\n",
       "</table>\n",
       "<table class=\"simpletable\">\n",
       "<tr>\n",
       "      <td></td>         <th>coef</th>     <th>std err</th>      <th>t</th>      <th>P>|t|</th>  <th>[0.025</th>    <th>0.975]</th>  \n",
       "</tr>\n",
       "<tr>\n",
       "  <th>Intercept</th> <td>   -0.0024</td> <td>    0.004</td> <td>   -0.669</td> <td> 0.513</td> <td>   -0.010</td> <td>    0.005</td>\n",
       "</tr>\n",
       "<tr>\n",
       "  <th>F_ret</th>     <td>    0.4996</td> <td>    0.295</td> <td>    1.694</td> <td> 0.110</td> <td>   -0.126</td> <td>    1.125</td>\n",
       "</tr>\n",
       "</table>\n",
       "<table class=\"simpletable\">\n",
       "<tr>\n",
       "  <th>Omnibus:</th>       <td> 2.746</td> <th>  Durbin-Watson:     </th> <td>   1.765</td>\n",
       "</tr>\n",
       "<tr>\n",
       "  <th>Prob(Omnibus):</th> <td> 0.253</td> <th>  Jarque-Bera (JB):  </th> <td>   1.099</td>\n",
       "</tr>\n",
       "<tr>\n",
       "  <th>Skew:</th>          <td>-0.532</td> <th>  Prob(JB):          </th> <td>   0.577</td>\n",
       "</tr>\n",
       "<tr>\n",
       "  <th>Kurtosis:</th>      <td> 3.576</td> <th>  Cond. No.          </th> <td>    83.7</td>\n",
       "</tr>\n",
       "</table>"
      ],
      "text/plain": [
       "<class 'statsmodels.iolib.summary.Summary'>\n",
       "\"\"\"\n",
       "                            OLS Regression Results                            \n",
       "==============================================================================\n",
       "Dep. Variable:                JWN_ret   R-squared:                       0.152\n",
       "Model:                            OLS   Adj. R-squared:                  0.099\n",
       "Method:                 Least Squares   F-statistic:                     2.869\n",
       "Date:                Tue, 08 May 2018   Prob (F-statistic):              0.110\n",
       "Time:                        20:12:27   Log-Likelihood:                 51.164\n",
       "No. Observations:                  18   AIC:                            -98.33\n",
       "Df Residuals:                      16   BIC:                            -96.55\n",
       "Df Model:                           1                                         \n",
       "Covariance Type:            nonrobust                                         \n",
       "==============================================================================\n",
       "                 coef    std err          t      P>|t|      [0.025      0.975]\n",
       "------------------------------------------------------------------------------\n",
       "Intercept     -0.0024      0.004     -0.669      0.513      -0.010       0.005\n",
       "F_ret          0.4996      0.295      1.694      0.110      -0.126       1.125\n",
       "==============================================================================\n",
       "Omnibus:                        2.746   Durbin-Watson:                   1.765\n",
       "Prob(Omnibus):                  0.253   Jarque-Bera (JB):                1.099\n",
       "Skew:                          -0.532   Prob(JB):                        0.577\n",
       "Kurtosis:                       3.576   Cond. No.                         83.7\n",
       "==============================================================================\n",
       "\n",
       "Warnings:\n",
       "[1] Standard Errors assume that the covariance matrix of the errors is correctly specified.\n",
       "\"\"\""
      ]
     },
     "execution_count": 20,
     "metadata": {},
     "output_type": "execute_result"
    }
   ],
   "source": [
    "# Model Implementation\n",
    "JWN_ret = final_data[\"JWN:Ret\"]\n",
    "F_ret = final_data[\"F:Ret\"]\n",
    "mod2 = sm.ols('JWN_ret~F_ret', data=final_data).fit()\n",
    "mod2.summary()"
   ]
  },
  {
   "cell_type": "code",
   "execution_count": 21,
   "metadata": {
    "collapsed": false
   },
   "outputs": [
    {
     "data": {
      "text/plain": [
       "<matplotlib.text.Text at 0x7fda14fbeb70>"
      ]
     },
     "execution_count": 21,
     "metadata": {},
     "output_type": "execute_result"
    },
    {
     "data": {
      "image/png": "[encoded data removed]",
      "text/plain": [
       "<matplotlib.figure.Figure at 0x7fda14fbeba8>"
      ]
     },
     "metadata": {},
     "output_type": "display_data"
    }
   ],
   "source": [
    "fig, ax = plt.subplots()\n",
    "splot = sns.regplot(\"F:Ret\",\"JWN:Ret\",data=final_data, ax=ax)\n",
    "fig.suptitle('JWN~F Daily Return, 06-19-2017 - 07-14-2017')"
   ]
  },
  {
   "cell_type": "markdown",
   "metadata": {},
   "source": []
  }
 ],
 "metadata": {
  "kernelspec": {
   "display_name": "Python 3",
   "language": "python",
   "name": "python3"
  },
  "language_info": {
   "codemirror_mode": {
    "name": "ipython",
    "version": 3
   },
   "file_extension": ".py",
   "mimetype": "text/x-python",
   "name": "python",
   "nbconvert_exporter": "python",
   "pygments_lexer": "ipython3",
   "version": "3.4.3"
  }
 },
 "nbformat": 4,
 "nbformat_minor": 0
}
