{
 "cells": [
  {
   "cell_type": "markdown",
   "metadata": {},
   "source": [
    "# Zero Curves and Spot Curves"
   ]
  },
  {
   "cell_type": "markdown",
   "metadata": {},
   "source": [
    "Interest rate curves are commonly provided as either zero curves or spot curves.  They are different."
   ]
  },
  {
   "cell_type": "code",
   "execution_count": 1,
   "metadata": {
    "collapsed": false
   },
   "outputs": [
    {
     "name": "stderr",
     "output_type": "stream",
     "text": [
      "/opt/local/Library/Frameworks/Python.framework/Versions/3.5/lib/python3.5/site-packages/matplotlib/font_manager.py:273: UserWarning: Matplotlib is building the font cache using fc-list. This may take a moment.\n",
      "  warnings.warn('Matplotlib is building the font cache using fc-list. This may take a moment.')\n",
      "/opt/local/Library/Frameworks/Python.framework/Versions/3.5/lib/python3.5/site-packages/matplotlib/font_manager.py:273: UserWarning: Matplotlib is building the font cache using fc-list. This may take a moment.\n",
      "  warnings.warn('Matplotlib is building the font cache using fc-list. This may take a moment.')\n"
     ]
    },
    {
     "data": {
      "image/png": "[encoded data removed]",
      "text/plain": [
       "<matplotlib.figure.Figure at 0x1114934e0>"
      ]
     },
     "metadata": {},
     "output_type": "display_data"
    }
   ],
   "source": [
    "%matplotlib inline\n",
    "import numpy as np\n",
    "import pandas as pd\n",
    "rates = pd.DataFrame({'Low':[0.01, 0.015, 0.02, 0.025, 0.03],\n",
    "                     'High':[0.04, 0.06, 0.07, 0.09, 0.11],\n",
    "                     'Tenor':[0,1,2,5,10]}).set_index(['Tenor'])\n",
    "rp = rates.plot(title=\"Term Struct of Zero Coupon Bond Rates\")"
   ]
  },
  {
   "cell_type": "markdown",
   "metadata": {},
   "source": [
    "We often work with spot rates, such as the swap curve, but for proper treatment of value changes, we want a zero-coupon curve.  A spot curve has the property that the present value of a coupon bond with coupons equal to the quoted rate is 1.0.  We can use that fact to construct a spot curve out of the zero curve."
   ]
  },
  {
   "cell_type": "code",
   "execution_count": 2,
   "metadata": {
    "collapsed": false
   },
   "outputs": [],
   "source": [
    "def spot_rate(zcb, tenor):\n",
    "    times = np.arange(tenor, 0, step=-0.5)[::-1]\n",
    "    if times.shape[0]==0:\n",
    "        sr = None\n",
    "    else:\n",
    "        r = np.interp(times, zcb.index.values, zcb.values) # Linear interpolation\n",
    "        coupons_pv_x = 0.5*np.exp(-r*times).sum()\n",
    "        final_pv = np.exp(-tenor*r[-1])\n",
    "        sr = (1.0 - final_pv) / coupons_pv_x # Solves x + c * delta = 1.0\n",
    "    return sr\n",
    "def compute_spot_rates(zcb_rates):\n",
    "    spot = zcb_rates.copy()\n",
    "    for curve in zcb_rates.columns:\n",
    "        zcb = zcb_rates[curve]\n",
    "        for tenor, rate in zcb.iteritems():\n",
    "            if tenor>0.001:\n",
    "                spot[curve][tenor] = spot_rate(zcb, tenor)\n",
    "    return spot\n"
   ]
  },
  {
   "cell_type": "markdown",
   "metadata": {},
   "source": [
    "Pricing a bond, with its coupons, on a zero curve is quite simple"
   ]
  },
  {
   "cell_type": "code",
   "execution_count": 3,
   "metadata": {
    "collapsed": true
   },
   "outputs": [],
   "source": [
    "def bond_price(zcb, coupon_rate, tenor):\n",
    "    times = np.arange(tenor, 0, step=-0.5)[::-1]\n",
    "    if times.shape[0]==0:\n",
    "        p = 1.0\n",
    "    else:\n",
    "        r = np.interp(times, zcb.index.values, zcb.values) # Linear interpolation\n",
    "        p = np.exp(-tenor*r[-1]) + 0.5 * coupon_rate * np.exp(-r*times).sum()\n",
    "    return p\n",
    "\n"
   ]
  },
  {
   "cell_type": "markdown",
   "metadata": {},
   "source": [
    "Let's look at the zero curves we obtain from our spot rates in the swap curve above"
   ]
  },
  {
   "cell_type": "code",
   "execution_count": 5,
   "metadata": {
    "collapsed": false,
    "scrolled": false
   },
   "outputs": [
    {
     "name": "stdout",
     "output_type": "stream",
     "text": [
      "           High       Low\n",
      "Tenor                    \n",
      "0      0.040000  0.010000\n",
      "1      0.060755  0.015047\n",
      "2      0.070741  0.020037\n",
      "5      0.089391  0.024962\n",
      "10     0.104870  0.029666\n",
      "Bond price on this curve (should be 1.0)\n"
     ]
    },
    {
     "data": {
      "image/png": "[encoded data removed]",
      "text/plain": [
       "<matplotlib.figure.Figure at 0x1115c2240>"
      ]
     },
     "metadata": {},
     "output_type": "display_data"
    }
   ],
   "source": [
    "spot_rates = compute_spot_rates(rates)\n",
    "print(spot_rates)\n",
    "print(\"Bond price on this curve (should be 1.0)\"%(\n",
    "        bond_price(rates['High'], coupon_rate=spot_rates['High'][5], tenor=5)))\n",
    "\n",
    "sp = spot_rates.plot(title=\"Spot Rates\")"
   ]
  },
  {
   "cell_type": "markdown",
   "metadata": {},
   "source": [
    "and now the differences"
   ]
  },
  {
   "cell_type": "code",
   "execution_count": 6,
   "metadata": {
    "collapsed": false
   },
   "outputs": [
    {
     "data": {
      "image/png": "[encoded data removed]",
      "text/plain": [
       "<matplotlib.figure.Figure at 0x11187ce10>"
      ]
     },
     "metadata": {},
     "output_type": "display_data"
    }
   ],
   "source": [
    "sp = (spot_rates-rates).plot(title=\"Zero to Spot Difference\")"
   ]
  },
  {
   "cell_type": "markdown",
   "metadata": {},
   "source": [
    "## ZCB Rates From Spot"
   ]
  },
  {
   "cell_type": "markdown",
   "metadata": {},
   "source": [
    "To go from a spot curve to a ZCB curve, we have to compute the points one at a time.  The first one is the same as the zero rate.  Latter points are computed by bootstrapping, where we have zero rates for the previous tenor and just need to compute one new one at a time.  We proceed forward in tenors until the curve has been completely \"stripped\" in this manner."
   ]
  },
  {
   "cell_type": "code",
   "execution_count": 12,
   "metadata": {
    "collapsed": false
   },
   "outputs": [
    {
     "data": {
      "text/html": [
       "<div style=\"max-height:1000px;max-width:1500px;overflow:auto;\">\n",
       "<table border=\"1\" class=\"dataframe\">\n",
       "  <thead>\n",
       "    <tr style=\"text-align: right;\">\n",
       "      <th></th>\n",
       "      <th>High</th>\n",
       "      <th>Low</th>\n",
       "    </tr>\n",
       "    <tr>\n",
       "      <th>Tenor</th>\n",
       "      <th></th>\n",
       "      <th></th>\n",
       "    </tr>\n",
       "  </thead>\n",
       "  <tbody>\n",
       "    <tr>\n",
       "      <th>0</th>\n",
       "      <td>0.040000</td>\n",
       "      <td>0.010000</td>\n",
       "    </tr>\n",
       "    <tr>\n",
       "      <th>1</th>\n",
       "      <td>0.059994</td>\n",
       "      <td>0.015000</td>\n",
       "    </tr>\n",
       "    <tr>\n",
       "      <th>2</th>\n",
       "      <td>0.069990</td>\n",
       "      <td>0.020000</td>\n",
       "    </tr>\n",
       "    <tr>\n",
       "      <th>5</th>\n",
       "      <td>0.090058</td>\n",
       "      <td>0.025001</td>\n",
       "    </tr>\n",
       "    <tr>\n",
       "      <th>10</th>\n",
       "      <td>0.111205</td>\n",
       "      <td>0.030019</td>\n",
       "    </tr>\n",
       "  </tbody>\n",
       "</table>\n",
       "</div>"
      ],
      "text/plain": [
       "           High       Low\n",
       "Tenor                    \n",
       "0      0.040000  0.010000\n",
       "1      0.059994  0.015000\n",
       "2      0.069990  0.020000\n",
       "5      0.090058  0.025001\n",
       "10     0.111205  0.030019"
      ]
     },
     "execution_count": 12,
     "metadata": {},
     "output_type": "execute_result"
    }
   ],
   "source": [
    "def compute_zcb_curve(spot_rates_curve):\n",
    "    zcb_rates = spot_rates_curve.copy()\n",
    "    for curve in spot_rates_curve.columns:\n",
    "        spot = spot_rates_curve[curve]\n",
    "        for tenor, spot_rate in spot.iteritems():\n",
    "            if tenor>0.001:\n",
    "                times = np.arange(tenor-0.5, 0, step=-0.5)[::-1]\n",
    "                coupon_half_yr = 0.5*spot_rate\n",
    "                z = np.interp(times, zcb_rates[curve].index.values, zcb_rates[curve].values) # Linear interpolation\n",
    "                preceding_coupons_val = (coupon_half_yr*np.exp(-z*times)).sum()\n",
    "                zcb_rates[curve][tenor] = -np.log((1-preceding_coupons_val)/(1+coupon_half_yr))/tenor\n",
    "    return zcb_rates\n",
    "compute_zcb_curve(spot_rates)\n"
   ]
  }
 ],
 "metadata": {
  "kernelspec": {
   "display_name": "Python 3",
   "language": "python",
   "name": "python3"
  },
  "language_info": {
   "codemirror_mode": {
    "name": "ipython",
    "version": 3
   },
   "file_extension": ".py",
   "mimetype": "text/x-python",
   "name": "python",
   "nbconvert_exporter": "python",
   "pygments_lexer": "ipython3",
   "version": "3.4.3"
  }
 },
 "nbformat": 4,
 "nbformat_minor": 0
}
