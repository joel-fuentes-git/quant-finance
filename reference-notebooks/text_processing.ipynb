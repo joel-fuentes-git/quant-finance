{
 "cells": [
  {
   "cell_type": "markdown",
   "metadata": {},
   "source": [
    "# Text Processing\n",
    "\n",
    "## Capturing Text Data\n",
    "\n",
    "### Plain Text"
   ]
  },
  {
   "cell_type": "code",
   "execution_count": 2,
   "metadata": {},
   "outputs": [
    {
     "name": "stdout",
     "output_type": "stream",
     "text": [
      "Hieroglyphic writing dates from c. 3000 BC, and is composed of hundreds of symbols. A hieroglyph can represent a word, a sound, or a silent determinative; and the same symbol can serve different purposes in different contexts. Hieroglyphs were a formal script, used on stone monuments and in tombs, that could be as detailed as individual works of art.\n",
      "\n"
     ]
    }
   ],
   "source": [
    "import os\n",
    "\n",
    "# Read in a plain text file\n",
    "with open(os.path.join(\"data\", \"hieroglyph.txt\"), \"r\") as f:\n",
    "    text = f.read()\n",
    "    print(text)"
   ]
  },
  {
   "cell_type": "markdown",
   "metadata": {},
   "source": [
    "### Tabular Data"
   ]
  },
  {
   "cell_type": "code",
   "execution_count": 3,
   "metadata": {
    "scrolled": true
   },
   "outputs": [
    {
     "data": {
      "text/html": [
       "<div>\n",
       "<style>\n",
       "    .dataframe thead tr:only-child th {\n",
       "        text-align: right;\n",
       "    }\n",
       "\n",
       "    .dataframe thead th {\n",
       "        text-align: left;\n",
       "    }\n",
       "\n",
       "    .dataframe tbody tr th {\n",
       "        vertical-align: top;\n",
       "    }\n",
       "</style>\n",
       "<table border=\"1\" class=\"dataframe\">\n",
       "  <thead>\n",
       "    <tr style=\"text-align: right;\">\n",
       "      <th></th>\n",
       "      <th>publisher</th>\n",
       "      <th>title</th>\n",
       "    </tr>\n",
       "  </thead>\n",
       "  <tbody>\n",
       "    <tr>\n",
       "      <th>0</th>\n",
       "      <td>Livemint</td>\n",
       "      <td>fed's charles plosser sees high bar for change...</td>\n",
       "    </tr>\n",
       "    <tr>\n",
       "      <th>1</th>\n",
       "      <td>IFA Magazine</td>\n",
       "      <td>us open: stocks fall after fed official hints ...</td>\n",
       "    </tr>\n",
       "    <tr>\n",
       "      <th>2</th>\n",
       "      <td>IFA Magazine</td>\n",
       "      <td>fed risks falling 'behind the curve', charles ...</td>\n",
       "    </tr>\n",
       "    <tr>\n",
       "      <th>3</th>\n",
       "      <td>Moneynews</td>\n",
       "      <td>fed's plosser: nasty weather has curbed job gr...</td>\n",
       "    </tr>\n",
       "    <tr>\n",
       "      <th>4</th>\n",
       "      <td>NASDAQ</td>\n",
       "      <td>plosser: fed may have to accelerate tapering pace</td>\n",
       "    </tr>\n",
       "  </tbody>\n",
       "</table>\n",
       "</div>"
      ],
      "text/plain": [
       "      publisher                                              title\n",
       "0      Livemint  fed's charles plosser sees high bar for change...\n",
       "1  IFA Magazine  us open: stocks fall after fed official hints ...\n",
       "2  IFA Magazine  fed risks falling 'behind the curve', charles ...\n",
       "3     Moneynews  fed's plosser: nasty weather has curbed job gr...\n",
       "4        NASDAQ  plosser: fed may have to accelerate tapering pace"
      ]
     },
     "execution_count": 3,
     "metadata": {},
     "output_type": "execute_result"
    }
   ],
   "source": [
    "import pandas as pd\n",
    "\n",
    "# Extract text column from a dataframe\n",
    "df = pd.read_csv(os.path.join(\"data\", \"news.csv\"))\n",
    "df.head()[['publisher', 'title']]\n",
    "\n",
    "# Convert text column to lowercase\n",
    "df['title'] = df['title'].str.lower()\n",
    "df.head()[['publisher', 'title']]"
   ]
  },
  {
   "cell_type": "markdown",
   "metadata": {},
   "source": [
    "### Online Resource"
   ]
  },
  {
   "cell_type": "code",
   "execution_count": 4,
   "metadata": {
    "scrolled": true
   },
   "outputs": [
    {
     "name": "stdout",
     "output_type": "stream",
     "text": [
      "{\n",
      "    \"success\": {\n",
      "        \"total\": 1\n",
      "    },\n",
      "    \"contents\": {\n",
      "        \"quotes\": [\n",
      "            {\n",
      "                \"quote\": \"If you respect yourself in stressful situations, it will help you see the positive\\u2026 It will help you see the message in the mess.\",\n",
      "                \"author\": \"Steve Maraboli\",\n",
      "                \"length\": \"135\",\n",
      "                \"tags\": [\n",
      "                    \"inspire\",\n",
      "                    \"self-respect\",\n",
      "                    \"stress\"\n",
      "                ],\n",
      "                \"category\": \"inspire\",\n",
      "                \"title\": \"Inspiring Quote of the day\",\n",
      "                \"date\": \"2019-01-17\",\n",
      "                \"id\": null\n",
      "            }\n",
      "        ],\n",
      "        \"copyright\": \"2017-19 theysaidso.com\"\n",
      "    }\n",
      "}\n",
      "If you respect yourself in stressful situations, it will help you see the positive… It will help you see the message in the mess. \n",
      "-- Steve Maraboli\n"
     ]
    }
   ],
   "source": [
    "import requests\n",
    "import json\n",
    "\n",
    "# Fetch data from a REST API\n",
    "r = requests.get(\n",
    "    \"https://quotes.rest/qod.json\")\n",
    "res = r.json()\n",
    "print(json.dumps(res, indent=4))\n",
    "\n",
    "# Extract relevant object and field\n",
    "q = res[\"contents\"][\"quotes\"][0]\n",
    "print(q[\"quote\"], \"\\n--\", q[\"author\"])"
   ]
  },
  {
   "cell_type": "markdown",
   "metadata": {},
   "source": [
    "## Cleaning"
   ]
  },
  {
   "cell_type": "code",
   "execution_count": 5,
   "metadata": {
    "scrolled": true
   },
   "outputs": [
    {
     "name": "stdout",
     "output_type": "stream",
     "text": [
      "<html op=\"news\"><head><meta name=\"referrer\" content=\"origin\"><meta name=\"viewport\" content=\"width=device-width, initial-scale=1.0\"><link rel=\"stylesheet\" type=\"text/css\" href=\"news.css?qZmEZPl98MeFlXRlm5qn\">\n",
      "            <link rel=\"shortcut icon\" href=\"favicon.ico\">\n",
      "          <link rel=\"alternate\" type=\"application/rss+xml\" title=\"RSS\" href=\"rss\">\n",
      "        <title>Hacker News</title></head><body><center><table id=\"hnmain\" border=\"0\" cellpadding=\"0\" cellspacing=\"0\" width=\"85%\" bgcolor=\"#f6f6ef\">\n",
      "        <tr><td bgcolor=\"#ff6600\"><table border=\"0\" cellpadding=\"0\" cellspacing=\"0\" width=\"100%\" style=\"padding:2px\"><tr><td style=\"width:18px;padding-right:4px\"><a href=\"https://news.ycombinator.com\"><img src=\"y18.gif\" width=\"18\" height=\"18\" style=\"border:1px white solid;\"></a></td>\n",
      "                  <td style=\"line-height:12pt; height:10px;\"><span class=\"pagetop\"><b class=\"hnname\"><a href=\"news\">Hacker News</a></b>\n",
      "              <a href=\"newest\">new</a> | <a href=\"newcomments\">comments</a> | <a href=\"ask\">ask</a> | <a href=\"show\">show</a> | <a href=\"jobs\">jobs</a> | <a href=\"submit\">submit</a>            </span></td><td style=\"text-align:right;padding-right:4px;\"><span class=\"pagetop\">\n",
      "                              <a href=\"login?goto=news\">login</a>\n",
      "                          </span></td>\n",
      "              </tr></table></td></tr>\n",
      "<tr id=\"pagespace\" title=\"\" style=\"height:10px\"></tr><tr><td><table border=\"0\" cellpadding=\"0\" cellspacing=\"0\" class=\"itemlist\">\n",
      "              <tr class='athing' id='18926225'>\n",
      "      <td align=\"right\" valign=\"top\" class=\"title\"><span class=\"rank\">1.</span></td>      <td valign=\"top\" class=\"votelinks\"><center><a id='up_18926225' href='vote?id=18926225&amp;how=up&amp;goto=news'><div class='votearrow' title='upvote'></div></a></center></td><td class=\"title\"><a href=\"https://www.wsj.com/articles/john-c-bogle-founder-of-vanguard-group-dies-11547677745\" class=\"storylink\">John C. Bogle, Founder of Vanguard Group, Dies</a><span class=\"sitebit comhead\"> (<a href=\"from?site=wsj.com\"><span class=\"sitestr\">wsj.com</span></a>)</span></td></tr><tr><td colspan=\"2\"></td><td class=\"subtext\">\n",
      "        <span class=\"score\" id=\"score_18926225\">571 points</span> by <a href=\"user?id=gdubs\" class=\"hnuser\">gdubs</a> <span class=\"age\"><a href=\"item?id=18926225\">3 hours ago</a></span> <span id=\"unv_18926225\"></span> | <a href=\"hide?id=18926225&amp;goto=news\">hide</a> | <a href=\"item?id=18926225\">107&nbsp;comments</a>              </td></tr>\n",
      "      <tr class=\"spacer\" style=\"height:5px\"></tr>\n",
      "                <tr class='athing' id='18925350'>\n",
      "      <td align=\"right\" valign=\"top\" class=\"title\"><span class=\"rank\">2.</span></td>      <td valign=\"top\" class=\"votelinks\"><center><a id='up_18925350' href='vote?id=18925350&amp;how=up&amp;goto=news'><div class='votearrow' title='upvote'></div></a></center></td><td class=\"title\"><a href=\"https://grahamlyons.com/article/everything-you-need-to-know-about-networking-on-aws\" class=\"storylink\">Networking on AWS</a><span class=\"sitebit comhead\"> (<a href=\"from?site=grahamlyons.com\"><span class=\"sitestr\">grahamlyons.com</span></a>)</span></td></tr><tr><td colspan=\"2\"></td><td class=\"subtext\">\n",
      "        <span class=\"score\" id=\"score_18925350\">242 points</span> by <a href=\"user?id=petercooper\" class=\"hnuser\">petercooper</a> <span class=\"age\"><a href=\"item?id=18925350\">4 hours ago</a></span> <span id=\"unv_18925350\"></span> | <a href=\"hide?id=18925350&amp;goto=news\">hide</a> | <a href=\"item?id=18925350\">51&nbsp;comments</a>              </td></tr>\n",
      "      <tr class=\"spacer\" style=\"height:5px\"></tr>\n",
      "                <tr class='athing' id='18926264'>\n",
      "      <td align=\"right\" valign=\"top\" class=\"title\"><span class=\"rank\">3.</span></td>      <td valign=\"top\" class=\"votelinks\"><center><a id='up_18926264' href='vote?id=18926264&amp;how=up&amp;goto=news'><div class='votearrow' title='upvote'></div></a></center></td><td class=\"title\"><a href=\"https://www.senteltechsecurity.com/blog/post/how-to-find-hidden-cameras/\" class=\"storylink\">How to Find Hidden Cameras and Spy Gear Like a Professional</a><span class=\"sitebit comhead\"> (<a href=\"from?site=senteltechsecurity.com\"><span class=\"sitestr\">senteltechsecurity.com</span></a>)</span></td></tr><tr><td colspan=\"2\"></td><td class=\"subtext\">\n",
      "        <span class=\"score\" id=\"score_18926264\">114 points</span> by <a href=\"user?id=loteck\" class=\"hnuser\">loteck</a> <span class=\"age\"><a href=\"item?id=18926264\">3 hours ago</a></span> <span id=\"unv_18926264\"></span> | <a href=\"hide?id=18926264&amp;goto=news\">hide</a> | <a href=\"item?id=18926264\">30&nbsp;comments</a>              </td></tr>\n",
      "      <tr class=\"spacer\" style=\"height:5px\"></tr>\n",
      "                <tr class='athing' id='18924724'>\n",
      "      <td align=\"right\" valign=\"top\" class=\"title\"><span class=\"rank\">4.</span></td>      <td valign=\"top\" class=\"votelinks\"><center><a id='up_18924724' href='vote?id=18924724&amp;how=up&amp;goto=news'><div class='votearrow' title='upvote'></div></a></center></td><td class=\"title\"><a href=\"https://mxstbr.com/thoughts/tech-choice-regrets-at-spectrum/\" class=\"storylink\">Tech Choices I Regret at Spectrum</a><span class=\"sitebit comhead\"> (<a href=\"from?site=mxstbr.com\"><span class=\"sitestr\">mxstbr.com</span></a>)</span></td></tr><tr><td colspan=\"2\"></td><td class=\"subtext\">\n",
      "        <span class=\"score\" id=\"score_18924724\">146 points</span> by <a href=\"user?id=theBashShell\" class=\"hnuser\">theBashShell</a> <span class=\"age\"><a href=\"item?id=18924724\">5 hours ago</a></span> <span id=\"unv_18924724\"></span> | <a href=\"hide?id=18924724&amp;goto=news\">hide</a> | <a href=\"item?id=18924724\">39&nbsp;comments</a>              </td></tr>\n",
      "      <tr class=\"spacer\" style=\"height:5px\"></tr>\n",
      "                <tr class='athing' id='18920829'>\n",
      "      <td align=\"right\" valign=\"top\" class=\"title\"><span class=\"rank\">5.</span></td>      <td valign=\"top\" class=\"votelinks\"><center><a id='up_18920829' href='vote?id=18920829&amp;how=up&amp;goto=news'><div class='votearrow' title='upvote'></div></a></center></td><td class=\"title\"><a href=\"https://www.cnbc.com/2019/01/15/international-stock-trading-scheme-hacked-into-sec-database-justice-dept-says.html\" class=\"storylink\">DOJ: Hackers broke into an SEC database and made millions from inside info</a><span class=\"sitebit comhead\"> (<a href=\"from?site=cnbc.com\"><span class=\"sitestr\">cnbc.com</span></a>)</span></td></tr><tr><td colspan=\"2\"></td><td class=\"subtext\">\n",
      "        <span class=\"score\" id=\"score_18920829\">367 points</span> by <a href=\"user?id=djoldman\" class=\"hnuser\">djoldman</a> <span class=\"age\"><a href=\"item?id=18920829\">12 hours ago</a></span> <span id=\"unv_18920829\"></span> | <a href=\"hide?id=18920829&amp;goto=news\">hide</a> | <a href=\"item?id=18920829\">133&nbsp;comments</a>              </td></tr>\n",
      "      <tr class=\"spacer\" style=\"height:5px\"></tr>\n",
      "                <tr class='athing' id='18924928'>\n",
      "      <td align=\"right\" valign=\"top\" class=\"title\"><span class=\"rank\">6.</span></td>      <td valign=\"top\" class=\"votelinks\"><center><a id='up_18924928' href='vote?id=18924928&amp;how=up&amp;goto=news'><div class='votearrow' title='upvote'></div></a></center></td><td class=\"title\"><a href=\"https://www.geekwire.com/2012/zillow-ceo-spencer-rascoff-startups-disrupt-real-estate-commissions-doomed-fail/\" class=\"storylink\">Zillow CEO: startups trying to disrupt real estate commissions will fail (2012)</a><span class=\"sitebit comhead\"> (<a href=\"from?site=geekwire.com\"><span class=\"sitestr\">geekwire.com</span></a>)</span></td></tr><tr><td colspan=\"2\"></td><td class=\"subtext\">\n",
      "        <span class=\"score\" id=\"score_18924928\">114 points</span> by <a href=\"user?id=gamechangr\" class=\"hnuser\">gamechangr</a> <span class=\"age\"><a href=\"item?id=18924928\">5 hours ago</a></span> <span id=\"unv_18924928\"></span> | <a href=\"hide?id=18924928&amp;goto=news\">hide</a> | <a href=\"item?id=18924928\">203&nbsp;comments</a>              </td></tr>\n",
      "      <tr class=\"spacer\" style=\"height:5px\"></tr>\n",
      "                <tr class='athing' id='18920079'>\n",
      "      <td align=\"right\" valign=\"top\" class=\"title\"><span class=\"rank\">7.</span></td>      <td valign=\"top\" class=\"votelinks\"><center><a id='up_18920079' href='vote?id=18920079&amp;how=up&amp;goto=news'><div class='votearrow' title='upvote'></div></a></center></td><td class=\"title\"><a href=\"https://digiday.com/media/new-york-times-gdpr-cut-off-ad-exchanges-europe-ad-revenue/\" class=\"storylink\">After GDPR, The New York Times cut off ad exchanges and kept growing ad revenue</a><span class=\"sitebit comhead\"> (<a href=\"from?site=digiday.com\"><span class=\"sitestr\">digiday.com</span></a>)</span></td></tr><tr><td colspan=\"2\"></td><td class=\"subtext\">\n",
      "        <span class=\"score\" id=\"score_18920079\">497 points</span> by <a href=\"user?id=chrisxcross\" class=\"hnuser\">chrisxcross</a> <span class=\"age\"><a href=\"item?id=18920079\">14 hours ago</a></span> <span id=\"unv_18920079\"></span> | <a href=\"hide?id=18920079&amp;goto=news\">hide</a> | <a href=\"item?id=18920079\">389&nbsp;comments</a>              </td></tr>\n",
      "      <tr class=\"spacer\" style=\"height:5px\"></tr>\n",
      "                <tr class='athing' id='18921434'>\n",
      "      <td align=\"right\" valign=\"top\" class=\"title\"><span class=\"rank\">8.</span></td>      <td valign=\"top\" class=\"votelinks\"><center><a id='up_18921434' href='vote?id=18921434&amp;how=up&amp;goto=news'><div class='votearrow' title='upvote'></div></a></center></td><td class=\"title\"><a href=\"https://scottbot.net/the-route-of-a-text-message/\" class=\"storylink\">Route of a Text Message</a><span class=\"sitebit comhead\"> (<a href=\"from?site=scottbot.net\"><span class=\"sitestr\">scottbot.net</span></a>)</span></td></tr><tr><td colspan=\"2\"></td><td class=\"subtext\">\n",
      "        <span class=\"score\" id=\"score_18921434\">368 points</span> by <a href=\"user?id=ericlott\" class=\"hnuser\">ericlott</a> <span class=\"age\"><a href=\"item?id=18921434\">11 hours ago</a></span> <span id=\"unv_18921434\"></span> | <a href=\"hide?id=18921434&amp;goto=news\">hide</a> | <a href=\"item?id=18921434\">47&nbsp;comments</a>              </td></tr>\n",
      "      <tr class=\"spacer\" style=\"height:5px\"></tr>\n",
      "                <tr class='athing' id='18922030'>\n",
      "      <td align=\"right\" valign=\"top\" class=\"title\"><span class=\"rank\">9.</span></td>      <td valign=\"top\" class=\"votelinks\"><center><a id='up_18922030' href='vote?id=18922030&amp;how=up&amp;goto=news'><div class='votearrow' title='upvote'></div></a></center></td><td class=\"title\"><a href=\"http://lists.landley.net/pipermail/toybox-landley.net/2019-January/010049.html\" class=\"storylink\">More than you really wanted to know about patch</a><span class=\"sitebit comhead\"> (<a href=\"from?site=landley.net\"><span class=\"sitestr\">landley.net</span></a>)</span></td></tr><tr><td colspan=\"2\"></td><td class=\"subtext\">\n",
      "        <span class=\"score\" id=\"score_18922030\">40 points</span> by <a href=\"user?id=signa11\" class=\"hnuser\">signa11</a> <span class=\"age\"><a href=\"item?id=18922030\">3 hours ago</a></span> <span id=\"unv_18922030\"></span> | <a href=\"hide?id=18922030&amp;goto=news\">hide</a> | <a href=\"item?id=18922030\">1&nbsp;comment</a>              </td></tr>\n",
      "      <tr class=\"spacer\" style=\"height:5px\"></tr>\n",
      "                <tr class='athing' id='18922696'>\n",
      "      <td align=\"right\" valign=\"top\" class=\"title\"><span class=\"rank\">10.</span></td>      <td valign=\"top\" class=\"votelinks\"><center><a id='up_18922696' href='vote?id=18922696&amp;how=up&amp;goto=news'><div class='votearrow' title='upvote'></div></a></center></td><td class=\"title\"><a href=\"https://cloud.google.com/blog/products/application-development/cloud-functions-go-1-11-is-now-a-supported-language\" class=\"storylink\">Cloud Functions: Go 1.11 is now a supported language</a><span class=\"sitebit comhead\"> (<a href=\"from?site=cloud.google.com\"><span class=\"sitestr\">cloud.google.com</span></a>)</span></td></tr><tr><td colspan=\"2\"></td><td class=\"subtext\">\n",
      "        <span class=\"score\" id=\"score_18922696\">179 points</span> by <a href=\"user?id=yannikyeo\" class=\"hnuser\">yannikyeo</a> <span class=\"age\"><a href=\"item?id=18922696\">8 hours ago</a></span> <span id=\"unv_18922696\"></span> | <a href=\"hide?id=18922696&amp;goto=news\">hide</a> | <a href=\"item?id=18922696\">75&nbsp;comments</a>              </td></tr>\n",
      "      <tr class=\"spacer\" style=\"height:5px\"></tr>\n",
      "                <tr class='athing' id='18925472'>\n",
      "      <td align=\"right\" valign=\"top\" class=\"title\"><span class=\"rank\">11.</span></td>      <td valign=\"top\" class=\"votelinks\"><center><a id='up_18925472' href='vote?id=18925472&amp;how=up&amp;goto=news'><div class='votearrow' title='upvote'></div></a></center></td><td class=\"title\"><a href=\"https://techcrunch.com/2019/01/16/byjus-buys-osmo-for-120m/\" class=\"storylink\"> Byju’s buys Osmo for $120M to add blended learning to its education business</a><span class=\"sitebit comhead\"> (<a href=\"from?site=techcrunch.com\"><span class=\"sitestr\">techcrunch.com</span></a>)</span></td></tr><tr><td colspan=\"2\"></td><td class=\"subtext\">\n",
      "        <span class=\"score\" id=\"score_18925472\">36 points</span> by <a href=\"user?id=erohead\" class=\"hnuser\">erohead</a> <span class=\"age\"><a href=\"item?id=18925472\">4 hours ago</a></span> <span id=\"unv_18925472\"></span> | <a href=\"hide?id=18925472&amp;goto=news\">hide</a> | <a href=\"item?id=18925472\">4&nbsp;comments</a>              </td></tr>\n",
      "      <tr class=\"spacer\" style=\"height:5px\"></tr>\n",
      "                <tr class='athing' id='18925136'>\n",
      "      <td align=\"right\" valign=\"top\" class=\"title\"><span class=\"rank\">12.</span></td>      <td valign=\"top\" class=\"votelinks\"><center><a id='up_18925136' href='vote?id=18925136&amp;how=up&amp;goto=news'><div class='votearrow' title='upvote'></div></a></center></td><td class=\"title\"><a href=\"https://blockstream.com/2019/01/16/satellite_api_beta_live/\" class=\"storylink\">Blockstream Satellite API: Pay with BTC via Lightning to Broadcast Data Globally</a><span class=\"sitebit comhead\"> (<a href=\"from?site=blockstream.com\"><span class=\"sitestr\">blockstream.com</span></a>)</span></td></tr><tr><td colspan=\"2\"></td><td class=\"subtext\">\n",
      "        <span class=\"score\" id=\"score_18925136\">58 points</span> by <a href=\"user?id=grubles\" class=\"hnuser\">grubles</a> <span class=\"age\"><a href=\"item?id=18925136\">5 hours ago</a></span> <span id=\"unv_18925136\"></span> | <a href=\"hide?id=18925136&amp;goto=news\">hide</a> | <a href=\"item?id=18925136\">14&nbsp;comments</a>              </td></tr>\n",
      "      <tr class=\"spacer\" style=\"height:5px\"></tr>\n",
      "                <tr class='athing' id='18927210'>\n",
      "      <td align=\"right\" valign=\"top\" class=\"title\"><span class=\"rank\">13.</span></td>      <td valign=\"top\" class=\"votelinks\"><center><a id='up_18927210' href='vote?id=18927210&amp;how=up&amp;goto=news'><div class='votearrow' title='upvote'></div></a></center></td><td class=\"title\"><a href=\"https://cloud.google.com/blog/products/g-suite/new-pricing-for-g-suite-basic-and-business-editions\" class=\"storylink\">New Pricing for G Suite Basic and Business Editions</a><span class=\"sitebit comhead\"> (<a href=\"from?site=cloud.google.com\"><span class=\"sitestr\">cloud.google.com</span></a>)</span></td></tr><tr><td colspan=\"2\"></td><td class=\"subtext\">\n",
      "        <span class=\"score\" id=\"score_18927210\">14 points</span> by <a href=\"user?id=d99kris\" class=\"hnuser\">d99kris</a> <span class=\"age\"><a href=\"item?id=18927210\">1 hour ago</a></span> <span id=\"unv_18927210\"></span> | <a href=\"hide?id=18927210&amp;goto=news\">hide</a> | <a href=\"item?id=18927210\">9&nbsp;comments</a>              </td></tr>\n",
      "      <tr class=\"spacer\" style=\"height:5px\"></tr>\n",
      "                <tr class='athing' id='18925909'>\n",
      "      <td align=\"right\" valign=\"top\" class=\"title\"><span class=\"rank\">14.</span></td>      <td valign=\"top\" class=\"votelinks\"><center><a id='up_18925909' href='vote?id=18925909&amp;how=up&amp;goto=news'><div class='votearrow' title='upvote'></div></a></center></td><td class=\"title\"><a href=\"https://www.forbes.com/sites/forbesnycouncil/2019/01/16/how-the-safe-has-changed-and-it-what-it-means-for-your-companys-equity/\" class=\"storylink\">How The SAFE Has Changed And It What It Means For Equity</a><span class=\"sitebit comhead\"> (<a href=\"from?site=forbes.com\"><span class=\"sitestr\">forbes.com</span></a>)</span></td></tr><tr><td colspan=\"2\"></td><td class=\"subtext\">\n",
      "        <span class=\"score\" id=\"score_18925909\">28 points</span> by <a href=\"user?id=commons-tragedy\" class=\"hnuser\">commons-tragedy</a> <span class=\"age\"><a href=\"item?id=18925909\">4 hours ago</a></span> <span id=\"unv_18925909\"></span> | <a href=\"hide?id=18925909&amp;goto=news\">hide</a> | <a href=\"item?id=18925909\">2&nbsp;comments</a>              </td></tr>\n",
      "      <tr class=\"spacer\" style=\"height:5px\"></tr>\n",
      "                <tr class='athing' id='18920562'>\n",
      "      <td align=\"right\" valign=\"top\" class=\"title\"><span class=\"rank\">15.</span></td>      <td valign=\"top\" class=\"votelinks\"><center><a id='up_18920562' href='vote?id=18920562&amp;how=up&amp;goto=news'><div class='votearrow' title='upvote'></div></a></center></td><td class=\"title\"><a href=\"http://mitsloan.mit.edu/ideas-made-to-matter/2-founders-are-not-always-better-1\" class=\"storylink\">Two founders are not always better than one</a><span class=\"sitebit comhead\"> (<a href=\"from?site=mit.edu\"><span class=\"sitestr\">mit.edu</span></a>)</span></td></tr><tr><td colspan=\"2\"></td><td class=\"subtext\">\n",
      "        <span class=\"score\" id=\"score_18920562\">230 points</span> by <a href=\"user?id=contingencies\" class=\"hnuser\">contingencies</a> <span class=\"age\"><a href=\"item?id=18920562\">12 hours ago</a></span> <span id=\"unv_18920562\"></span> | <a href=\"hide?id=18920562&amp;goto=news\">hide</a> | <a href=\"item?id=18920562\">71&nbsp;comments</a>              </td></tr>\n",
      "      <tr class=\"spacer\" style=\"height:5px\"></tr>\n",
      "                <tr class='athing' id='18926454'>\n",
      "      <td align=\"right\" valign=\"top\" class=\"title\"><span class=\"rank\">16.</span></td>      <td valign=\"top\" class=\"votelinks\"><center><a id='up_18926454' href='vote?id=18926454&amp;how=up&amp;goto=news'><div class='votearrow' title='upvote'></div></a></center></td><td class=\"title\"><a href=\"https://www.freep.com/story/money/cars/2019/01/16/ford-f-150-electric-pickup-truck/2595515002/\" class=\"storylink\">Ford: We're going to make F-Series all-electric</a><span class=\"sitebit comhead\"> (<a href=\"from?site=freep.com\"><span class=\"sitestr\">freep.com</span></a>)</span></td></tr><tr><td colspan=\"2\"></td><td class=\"subtext\">\n",
      "        <span class=\"score\" id=\"score_18926454\">96 points</span> by <a href=\"user?id=prostoalex\" class=\"hnuser\">prostoalex</a> <span class=\"age\"><a href=\"item?id=18926454\">3 hours ago</a></span> <span id=\"unv_18926454\"></span> | <a href=\"hide?id=18926454&amp;goto=news\">hide</a> | <a href=\"item?id=18926454\">109&nbsp;comments</a>              </td></tr>\n",
      "      <tr class=\"spacer\" style=\"height:5px\"></tr>\n",
      "                <tr class='athing' id='18925295'>\n",
      "      <td align=\"right\" valign=\"top\" class=\"title\"><span class=\"rank\">17.</span></td>      <td valign=\"top\" class=\"votelinks\"><center><a id='up_18925295' href='vote?id=18925295&amp;how=up&amp;goto=news'><div class='votearrow' title='upvote'></div></a></center></td><td class=\"title\"><a href=\"https://nwn.blogs.com/nwn/2019/01/wdch-dreams-robert-thomas-la-phil.html\" class=\"storylink\">Machine Learning Music Composed by Fragments of 100s of Terabytes of Recordings</a><span class=\"sitebit comhead\"> (<a href=\"from?site=nwn.blogs.com\"><span class=\"sitestr\">nwn.blogs.com</span></a>)</span></td></tr><tr><td colspan=\"2\"></td><td class=\"subtext\">\n",
      "        <span class=\"score\" id=\"score_18925295\">34 points</span> by <a href=\"user?id=Kroeler\" class=\"hnuser\">Kroeler</a> <span class=\"age\"><a href=\"item?id=18925295\">5 hours ago</a></span> <span id=\"unv_18925295\"></span> | <a href=\"hide?id=18925295&amp;goto=news\">hide</a> | <a href=\"item?id=18925295\">3&nbsp;comments</a>              </td></tr>\n",
      "      <tr class=\"spacer\" style=\"height:5px\"></tr>\n",
      "                <tr class='athing' id='18919832'>\n",
      "      <td align=\"right\" valign=\"top\" class=\"title\"><span class=\"rank\">18.</span></td>      <td valign=\"top\" class=\"votelinks\"><center><a id='up_18919832' href='vote?id=18919832&amp;how=up&amp;goto=news'><div class='votearrow' title='upvote'></div></a></center></td><td class=\"title\"><a href=\"http://jeffreybigham.com/blog/2019/who-is-watching-you-in-your-airbnb.html\" class=\"storylink\">Airbnb and security camera disclosure</a><span class=\"sitebit comhead\"> (<a href=\"from?site=jeffreybigham.com\"><span class=\"sitestr\">jeffreybigham.com</span></a>)</span></td></tr><tr><td colspan=\"2\"></td><td class=\"subtext\">\n",
      "        <span class=\"score\" id=\"score_18919832\">618 points</span> by <a href=\"user?id=pmlnr\" class=\"hnuser\">pmlnr</a> <span class=\"age\"><a href=\"item?id=18919832\">15 hours ago</a></span> <span id=\"unv_18919832\"></span> | <a href=\"hide?id=18919832&amp;goto=news\">hide</a> | <a href=\"item?id=18919832\">340&nbsp;comments</a>              </td></tr>\n",
      "      <tr class=\"spacer\" style=\"height:5px\"></tr>\n",
      "                <tr class='athing' id='18926548'>\n",
      "      <td align=\"right\" valign=\"top\" class=\"title\"><span class=\"rank\">19.</span></td>      <td valign=\"top\" class=\"votelinks\"><center><a id='up_18926548' href='vote?id=18926548&amp;how=up&amp;goto=news'><div class='votearrow' title='upvote'></div></a></center></td><td class=\"title\"><a href=\"https://blogs.dropbox.com/tech/2019/01/automating-datacenter-operations-at-dropbox/\" class=\"storylink\">Automating Datacenter Operations at Dropbox</a><span class=\"sitebit comhead\"> (<a href=\"from?site=dropbox.com\"><span class=\"sitestr\">dropbox.com</span></a>)</span></td></tr><tr><td colspan=\"2\"></td><td class=\"subtext\">\n",
      "        <span class=\"score\" id=\"score_18926548\">17 points</span> by <a href=\"user?id=dmicher\" class=\"hnuser\">dmicher</a> <span class=\"age\"><a href=\"item?id=18926548\">2 hours ago</a></span> <span id=\"unv_18926548\"></span> | <a href=\"hide?id=18926548&amp;goto=news\">hide</a> | <a href=\"item?id=18926548\">3&nbsp;comments</a>              </td></tr>\n",
      "      <tr class=\"spacer\" style=\"height:5px\"></tr>\n",
      "                <tr class='athing' id='18926054'>\n",
      "      <td align=\"right\" valign=\"top\" class=\"title\"><span class=\"rank\">20.</span></td>      <td valign=\"top\" class=\"votelinks\"><center><a id='up_18926054' href='vote?id=18926054&amp;how=up&amp;goto=news'><div class='votearrow' title='upvote'></div></a></center></td><td class=\"title\"><a href=\"https://www.arangodb.com/\" class=\"storylink\">ArangoDB: Multi-model highly available NoSQL database</a><span class=\"sitebit comhead\"> (<a href=\"from?site=arangodb.com\"><span class=\"sitestr\">arangodb.com</span></a>)</span></td></tr><tr><td colspan=\"2\"></td><td class=\"subtext\">\n",
      "        <span class=\"score\" id=\"score_18926054\">39 points</span> by <a href=\"user?id=giancarlostoro\" class=\"hnuser\">giancarlostoro</a> <span class=\"age\"><a href=\"item?id=18926054\">3 hours ago</a></span> <span id=\"unv_18926054\"></span> | <a href=\"hide?id=18926054&amp;goto=news\">hide</a> | <a href=\"item?id=18926054\">14&nbsp;comments</a>              </td></tr>\n",
      "      <tr class=\"spacer\" style=\"height:5px\"></tr>\n",
      "                <tr class='athing' id='18920116'>\n",
      "      <td align=\"right\" valign=\"top\" class=\"title\"><span class=\"rank\">21.</span></td>      <td valign=\"top\" class=\"votelinks\"><center><a id='up_18920116' href='vote?id=18920116&amp;how=up&amp;goto=news'><div class='votearrow' title='upvote'></div></a></center></td><td class=\"title\"><a href=\"http://www.bbc.com/travel/gallery/20190115-a-melting-pot-made-of-cheese\" class=\"storylink\" rel=\"nofollow\">Genius cheese dish of slaves</a><span class=\"sitebit comhead\"> (<a href=\"from?site=bbc.com\"><span class=\"sitestr\">bbc.com</span></a>)</span></td></tr><tr><td colspan=\"2\"></td><td class=\"subtext\">\n",
      "        <span class=\"score\" id=\"score_18920116\">5 points</span> by <a href=\"user?id=MiriamWeiner\" class=\"hnuser\">MiriamWeiner</a> <span class=\"age\"><a href=\"item?id=18920116\">1 hour ago</a></span> <span id=\"unv_18920116\"></span> | <a href=\"hide?id=18920116&amp;goto=news\">hide</a> | <a href=\"item?id=18920116\">discuss</a>              </td></tr>\n",
      "      <tr class=\"spacer\" style=\"height:5px\"></tr>\n",
      "                <tr class='athing' id='18926536'>\n",
      "      <td align=\"right\" valign=\"top\" class=\"title\"><span class=\"rank\">22.</span></td>      <td valign=\"top\" class=\"votelinks\"><center><a id='up_18926536' href='vote?id=18926536&amp;how=up&amp;goto=news'><div class='votearrow' title='upvote'></div></a></center></td><td class=\"title\"><a href=\"http://duwaterlawreview.com/crisis-on-the-high-plains-the-loss-of-americas-largest-aquifer-the-ogallala/\" class=\"storylink\">Crisis on the High Plains:The Loss of America’s Largest Aquifer – Ogallala(2018)</a><span class=\"sitebit comhead\"> (<a href=\"from?site=duwaterlawreview.com\"><span class=\"sitestr\">duwaterlawreview.com</span></a>)</span></td></tr><tr><td colspan=\"2\"></td><td class=\"subtext\">\n",
      "        <span class=\"score\" id=\"score_18926536\">18 points</span> by <a href=\"user?id=jelliclesfarm\" class=\"hnuser\">jelliclesfarm</a> <span class=\"age\"><a href=\"item?id=18926536\">2 hours ago</a></span> <span id=\"unv_18926536\"></span> | <a href=\"hide?id=18926536&amp;goto=news\">hide</a> | <a href=\"item?id=18926536\">4&nbsp;comments</a>              </td></tr>\n",
      "      <tr class=\"spacer\" style=\"height:5px\"></tr>\n",
      "                <tr class='athing' id='18921827'>\n",
      "      <td align=\"right\" valign=\"top\" class=\"title\"><span class=\"rank\">23.</span></td>      <td valign=\"top\" class=\"votelinks\"><center><a id='up_18921827' href='vote?id=18921827&amp;how=up&amp;goto=news'><div class='votearrow' title='upvote'></div></a></center></td><td class=\"title\"><a href=\"https://features.propublica.org/the-bad-bet/how-illinois-bet-on-video-gambling-and-lost/\" class=\"storylink\">Illinois Bet on Video Gambling and Lost</a><span class=\"sitebit comhead\"> (<a href=\"from?site=propublica.org\"><span class=\"sitestr\">propublica.org</span></a>)</span></td></tr><tr><td colspan=\"2\"></td><td class=\"subtext\">\n",
      "        <span class=\"score\" id=\"score_18921827\">122 points</span> by <a href=\"user?id=danso\" class=\"hnuser\">danso</a> <span class=\"age\"><a href=\"item?id=18921827\">10 hours ago</a></span> <span id=\"unv_18921827\"></span> | <a href=\"hide?id=18921827&amp;goto=news\">hide</a> | <a href=\"item?id=18921827\">158&nbsp;comments</a>              </td></tr>\n",
      "      <tr class=\"spacer\" style=\"height:5px\"></tr>\n",
      "                <tr class='athing' id='18924274'>\n",
      "      <td align=\"right\" valign=\"top\" class=\"title\"><span class=\"rank\">24.</span></td>      <td valign=\"top\" class=\"votelinks\"><center><a id='up_18924274' href='vote?id=18924274&amp;how=up&amp;goto=news'><div class='votearrow' title='upvote'></div></a></center></td><td class=\"title\"><a href=\"https://blog.ycombinator.com/yc-series-a-program-investor-access/\" class=\"storylink\">YC Series A Program Investor Access</a><span class=\"sitebit comhead\"> (<a href=\"from?site=ycombinator.com\"><span class=\"sitestr\">ycombinator.com</span></a>)</span></td></tr><tr><td colspan=\"2\"></td><td class=\"subtext\">\n",
      "        <span class=\"score\" id=\"score_18924274\">57 points</span> by <a href=\"user?id=katm\" class=\"hnuser\">katm</a> <span class=\"age\"><a href=\"item?id=18924274\">6 hours ago</a></span> <span id=\"unv_18924274\"></span> | <a href=\"hide?id=18924274&amp;goto=news\">hide</a> | <a href=\"item?id=18924274\">7&nbsp;comments</a>              </td></tr>\n",
      "      <tr class=\"spacer\" style=\"height:5px\"></tr>\n",
      "                <tr class='athing' id='18919901'>\n",
      "      <td align=\"right\" valign=\"top\" class=\"title\"><span class=\"rank\">25.</span></td>      <td valign=\"top\" class=\"votelinks\"><center><a id='up_18919901' href='vote?id=18919901&amp;how=up&amp;goto=news'><div class='votearrow' title='upvote'></div></a></center></td><td class=\"title\"><a href=\"https://www.nytimes.com/2019/01/15/health/sacklers-purdue-oxycontin-opioids.html\" class=\"storylink\">Sacklers Directed Efforts to Mislead Public About OxyContin, Documents Indicate</a><span class=\"sitebit comhead\"> (<a href=\"from?site=nytimes.com\"><span class=\"sitestr\">nytimes.com</span></a>)</span></td></tr><tr><td colspan=\"2\"></td><td class=\"subtext\">\n",
      "        <span class=\"score\" id=\"score_18919901\">192 points</span> by <a href=\"user?id=pseudolus\" class=\"hnuser\">pseudolus</a> <span class=\"age\"><a href=\"item?id=18919901\">14 hours ago</a></span> <span id=\"unv_18919901\"></span> | <a href=\"hide?id=18919901&amp;goto=news\">hide</a> | <a href=\"item?id=18919901\">73&nbsp;comments</a>              </td></tr>\n",
      "      <tr class=\"spacer\" style=\"height:5px\"></tr>\n",
      "                <tr class='athing' id='18923941'>\n",
      "      <td align=\"right\" valign=\"top\" class=\"title\"><span class=\"rank\">26.</span></td>      <td valign=\"top\" class=\"votelinks\"><center><a id='up_18923941' href='vote?id=18923941&amp;how=up&amp;goto=news'><div class='votearrow' title='upvote'></div></a></center></td><td class=\"title\"><a href=\"https://www.forbes.com/sites/jeremybogaisky/2019/01/14/ai-is-about-to-take-the-ships-helm-away-from-humans/\" class=\"storylink\">AI Is About To Take The Ship's Helm Away From Humans</a><span class=\"sitebit comhead\"> (<a href=\"from?site=forbes.com\"><span class=\"sitestr\">forbes.com</span></a>)</span></td></tr><tr><td colspan=\"2\"></td><td class=\"subtext\">\n",
      "        <span class=\"score\" id=\"score_18923941\">9 points</span> by <a href=\"user?id=howrude\" class=\"hnuser\">howrude</a> <span class=\"age\"><a href=\"item?id=18923941\">2 hours ago</a></span> <span id=\"unv_18923941\"></span> | <a href=\"hide?id=18923941&amp;goto=news\">hide</a> | <a href=\"item?id=18923941\">3&nbsp;comments</a>              </td></tr>\n",
      "      <tr class=\"spacer\" style=\"height:5px\"></tr>\n",
      "                <tr class='athing' id='18925818'>\n",
      "      <td align=\"right\" valign=\"top\" class=\"title\"><span class=\"rank\">27.</span></td>      <td valign=\"top\" class=\"votelinks\"><center><a id='up_18925818' href='vote?id=18925818&amp;how=up&amp;goto=news'><div class='votearrow' title='upvote'></div></a></center></td><td class=\"title\"><a href=\"https://www.troyhunt.com/the-773-million-record-collection-1-data-reach/\" class=\"storylink\">773M Record “Collection #1” Data Breach</a><span class=\"sitebit comhead\"> (<a href=\"from?site=troyhunt.com\"><span class=\"sitestr\">troyhunt.com</span></a>)</span></td></tr><tr><td colspan=\"2\"></td><td class=\"subtext\">\n",
      "        <span class=\"score\" id=\"score_18925818\">48 points</span> by <a href=\"user?id=shritesh\" class=\"hnuser\">shritesh</a> <span class=\"age\"><a href=\"item?id=18925818\">4 hours ago</a></span> <span id=\"unv_18925818\"></span> | <a href=\"hide?id=18925818&amp;goto=news\">hide</a> | <a href=\"item?id=18925818\">10&nbsp;comments</a>              </td></tr>\n",
      "      <tr class=\"spacer\" style=\"height:5px\"></tr>\n",
      "                <tr class='athing' id='18912321'>\n",
      "      <td align=\"right\" valign=\"top\" class=\"title\"><span class=\"rank\">28.</span></td>      <td valign=\"top\" class=\"votelinks\"><center><a id='up_18912321' href='vote?id=18912321&amp;how=up&amp;goto=news'><div class='votearrow' title='upvote'></div></a></center></td><td class=\"title\"><a href=\"https://www.insidehighered.com/news/2019/01/14/elsevier-journal-editors-resign-start-rival-open-access-journal\" class=\"storylink\">Elsevier journal editors resign, start rival open-access journal</a><span class=\"sitebit comhead\"> (<a href=\"from?site=insidehighered.com\"><span class=\"sitestr\">insidehighered.com</span></a>)</span></td></tr><tr><td colspan=\"2\"></td><td class=\"subtext\">\n",
      "        <span class=\"score\" id=\"score_18912321\">778 points</span> by <a href=\"user?id=dankohn1\" class=\"hnuser\">dankohn1</a> <span class=\"age\"><a href=\"item?id=18912321\">17 hours ago</a></span> <span id=\"unv_18912321\"></span> | <a href=\"hide?id=18912321&amp;goto=news\">hide</a> | <a href=\"item?id=18912321\">101&nbsp;comments</a>              </td></tr>\n",
      "      <tr class=\"spacer\" style=\"height:5px\"></tr>\n",
      "                <tr class='athing' id='18921058'>\n",
      "      <td align=\"right\" valign=\"top\" class=\"title\"><span class=\"rank\">29.</span></td>      <td valign=\"top\" class=\"votelinks\"><center><a id='up_18921058' href='vote?id=18921058&amp;how=up&amp;goto=news'><div class='votearrow' title='upvote'></div></a></center></td><td class=\"title\"><a href=\"https://blog.sqreen.io/demystifying-radix-trees/\" class=\"storylink\">Demystifying Radix Trees: How Radix trees made blocking IPs 5000 times faster</a><span class=\"sitebit comhead\"> (<a href=\"from?site=sqreen.io\"><span class=\"sitestr\">sqreen.io</span></a>)</span></td></tr><tr><td colspan=\"2\"></td><td class=\"subtext\">\n",
      "        <span class=\"score\" id=\"score_18921058\">120 points</span> by <a href=\"user?id=TaikiSan\" class=\"hnuser\">TaikiSan</a> <span class=\"age\"><a href=\"item?id=18921058\">11 hours ago</a></span> <span id=\"unv_18921058\"></span> | <a href=\"hide?id=18921058&amp;goto=news\">hide</a> | <a href=\"item?id=18921058\">63&nbsp;comments</a>              </td></tr>\n",
      "      <tr class=\"spacer\" style=\"height:5px\"></tr>\n",
      "                <tr class='athing' id='18920584'>\n",
      "      <td align=\"right\" valign=\"top\" class=\"title\"><span class=\"rank\">30.</span></td>      <td valign=\"top\" class=\"votelinks\"><center><a id='up_18920584' href='vote?id=18920584&amp;how=up&amp;goto=news'><div class='votearrow' title='upvote'></div></a></center></td><td class=\"title\"><a href=\"https://home.cern/news/press-release/accelerators/international-collaboration-publishes-concept-design-post-lhc\" class=\"storylink\">Concept design for a post-LHC future circular collider at CERN</a><span class=\"sitebit comhead\"> (<a href=\"from?site=home.cern\"><span class=\"sitestr\">home.cern</span></a>)</span></td></tr><tr><td colspan=\"2\"></td><td class=\"subtext\">\n",
      "        <span class=\"score\" id=\"score_18920584\">82 points</span> by <a href=\"user?id=est31\" class=\"hnuser\">est31</a> <span class=\"age\"><a href=\"item?id=18920584\">9 hours ago</a></span> <span id=\"unv_18920584\"></span> | <a href=\"hide?id=18920584&amp;goto=news\">hide</a> | <a href=\"item?id=18920584\">59&nbsp;comments</a>              </td></tr>\n",
      "      <tr class=\"spacer\" style=\"height:5px\"></tr>\n",
      "            <tr class=\"morespace\" style=\"height:10px\"></tr><tr><td colspan=\"2\"></td><td class=\"title\"><a href=\"news?p=2\" class=\"morelink\" rel=\"nofollow\">More</a></td></tr>\n",
      "  </table>\n",
      "</td></tr>\n",
      "<tr><td><img src=\"s.gif\" height=\"10\" width=\"0\"><table width=\"100%\" cellspacing=\"0\" cellpadding=\"1\"><tr><td bgcolor=\"#ff6600\"></td></tr></table><br><center><span class=\"yclinks\"><a href=\"newsguidelines.html\">Guidelines</a>\n",
      "        | <a href=\"newsfaq.html\">FAQ</a>\n",
      "        | <a href=\"mailto:hn@ycombinator.com\">Support</a>\n",
      "        | <a href=\"https://github.com/HackerNews/API\">API</a>\n",
      "        | <a href=\"security.html\">Security</a>\n",
      "        | <a href=\"lists\">Lists</a>\n",
      "        | <a href=\"bookmarklet.html\" rel=\"nofollow\">Bookmarklet</a>\n",
      "        | <a href=\"http://www.ycombinator.com/legal/\">Legal</a>\n",
      "        | <a href=\"http://www.ycombinator.com/apply/\">Apply to YC</a>\n",
      "        | <a href=\"mailto:hn@ycombinator.com\">Contact</a></span><br><br><form method=\"get\" action=\"//hn.algolia.com/\">Search:\n",
      "          <input type=\"text\" name=\"q\" value=\"\" size=\"17\" autocorrect=\"off\" spellcheck=\"false\" autocapitalize=\"off\" autocomplete=\"false\"></form>\n",
      "            </center></td></tr>\n",
      "      </table></center></body><script type='text/javascript' src='hn.js?qZmEZPl98MeFlXRlm5qn'></script>\n",
      "  </html>\n",
      "\n"
     ]
    }
   ],
   "source": [
    "import requests\n",
    "\n",
    "# Fetch a web page\n",
    "r = requests.get(\"https://news.ycombinator.com\")\n",
    "print(r.text)"
   ]
  },
  {
   "cell_type": "code",
   "execution_count": 6,
   "metadata": {},
   "outputs": [
    {
     "name": "stdout",
     "output_type": "stream",
     "text": [
      "\n",
      "            \n",
      "          \n",
      "        Hacker News\n",
      "        \n",
      "                  Hacker News\n",
      "              new | comments | ask | show | jobs | submit            \n",
      "                              login\n",
      "                          \n",
      "              \n",
      "\n",
      "              \n",
      "      1.      John C. Bogle, Founder of Vanguard Group, Dies (wsj.com)\n",
      "        571 points by gdubs 3 hours ago  | hide | 107&nbsp;comments              \n",
      "      \n",
      "                \n",
      "      2.      Networking on AWS (grahamlyons.com)\n",
      "        242 points by petercooper 4 hours ago  | hide | 51&nbsp;comments              \n",
      "      \n",
      "                \n",
      "      3.      How to Find Hidden Cameras and Spy Gear Like a Professional (senteltechsecurity.com)\n",
      "        114 points by loteck 3 hours ago  | hide | 30&nbsp;comments              \n",
      "      \n",
      "                \n",
      "      4.      Tech Choices I Regret at Spectrum (mxstbr.com)\n",
      "        146 points by theBashShell 5 hours ago  | hide | 39&nbsp;comments              \n",
      "      \n",
      "                \n",
      "      5.      DOJ: Hackers broke into an SEC database and made millions from inside info (cnbc.com)\n",
      "        367 points by djoldman 12 hours ago  | hide | 133&nbsp;comments              \n",
      "      \n",
      "                \n",
      "      6.      Zillow CEO: startups trying to disrupt real estate commissions will fail (2012) (geekwire.com)\n",
      "        114 points by gamechangr 5 hours ago  | hide | 203&nbsp;comments              \n",
      "      \n",
      "                \n",
      "      7.      After GDPR, The New York Times cut off ad exchanges and kept growing ad revenue (digiday.com)\n",
      "        497 points by chrisxcross 14 hours ago  | hide | 389&nbsp;comments              \n",
      "      \n",
      "                \n",
      "      8.      Route of a Text Message (scottbot.net)\n",
      "        368 points by ericlott 11 hours ago  | hide | 47&nbsp;comments              \n",
      "      \n",
      "                \n",
      "      9.      More than you really wanted to know about patch (landley.net)\n",
      "        40 points by signa11 3 hours ago  | hide | 1&nbsp;comment              \n",
      "      \n",
      "                \n",
      "      10.      Cloud Functions: Go 1.11 is now a supported language (cloud.google.com)\n",
      "        179 points by yannikyeo 8 hours ago  | hide | 75&nbsp;comments              \n",
      "      \n",
      "                \n",
      "      11.       Byju’s buys Osmo for $120M to add blended learning to its education business (techcrunch.com)\n",
      "        36 points by erohead 4 hours ago  | hide | 4&nbsp;comments              \n",
      "      \n",
      "                \n",
      "      12.      Blockstream Satellite API: Pay with BTC via Lightning to Broadcast Data Globally (blockstream.com)\n",
      "        58 points by grubles 5 hours ago  | hide | 14&nbsp;comments              \n",
      "      \n",
      "                \n",
      "      13.      New Pricing for G Suite Basic and Business Editions (cloud.google.com)\n",
      "        14 points by d99kris 1 hour ago  | hide | 9&nbsp;comments              \n",
      "      \n",
      "                \n",
      "      14.      How The SAFE Has Changed And It What It Means For Equity (forbes.com)\n",
      "        28 points by commons-tragedy 4 hours ago  | hide | 2&nbsp;comments              \n",
      "      \n",
      "                \n",
      "      15.      Two founders are not always better than one (mit.edu)\n",
      "        230 points by contingencies 12 hours ago  | hide | 71&nbsp;comments              \n",
      "      \n",
      "                \n",
      "      16.      Ford: We're going to make F-Series all-electric (freep.com)\n",
      "        96 points by prostoalex 3 hours ago  | hide | 109&nbsp;comments              \n",
      "      \n",
      "                \n",
      "      17.      Machine Learning Music Composed by Fragments of 100s of Terabytes of Recordings (nwn.blogs.com)\n",
      "        34 points by Kroeler 5 hours ago  | hide | 3&nbsp;comments              \n",
      "      \n",
      "                \n",
      "      18.      Airbnb and security camera disclosure (jeffreybigham.com)\n",
      "        618 points by pmlnr 15 hours ago  | hide | 340&nbsp;comments              \n",
      "      \n",
      "                \n",
      "      19.      Automating Datacenter Operations at Dropbox (dropbox.com)\n",
      "        17 points by dmicher 2 hours ago  | hide | 3&nbsp;comments              \n",
      "      \n",
      "                \n",
      "      20.      ArangoDB: Multi-model highly available NoSQL database (arangodb.com)\n",
      "        39 points by giancarlostoro 3 hours ago  | hide | 14&nbsp;comments              \n",
      "      \n",
      "                \n",
      "      21.      Genius cheese dish of slaves (bbc.com)\n",
      "        5 points by MiriamWeiner 1 hour ago  | hide | discuss              \n",
      "      \n",
      "                \n",
      "      22.      Crisis on the High Plains:The Loss of America’s Largest Aquifer – Ogallala(2018) (duwaterlawreview.com)\n",
      "        18 points by jelliclesfarm 2 hours ago  | hide | 4&nbsp;comments              \n",
      "      \n",
      "                \n",
      "      23.      Illinois Bet on Video Gambling and Lost (propublica.org)\n",
      "        122 points by danso 10 hours ago  | hide | 158&nbsp;comments              \n",
      "      \n",
      "                \n",
      "      24.      YC Series A Program Investor Access (ycombinator.com)\n",
      "        57 points by katm 6 hours ago  | hide | 7&nbsp;comments              \n",
      "      \n",
      "                \n",
      "      25.      Sacklers Directed Efforts to Mislead Public About OxyContin, Documents Indicate (nytimes.com)\n",
      "        192 points by pseudolus 14 hours ago  | hide | 73&nbsp;comments              \n",
      "      \n",
      "                \n",
      "      26.      AI Is About To Take The Ship's Helm Away From Humans (forbes.com)\n",
      "        9 points by howrude 2 hours ago  | hide | 3&nbsp;comments              \n",
      "      \n",
      "                \n",
      "      27.      773M Record “Collection #1” Data Breach (troyhunt.com)\n",
      "        48 points by shritesh 4 hours ago  | hide | 10&nbsp;comments              \n",
      "      \n",
      "                \n",
      "      28.      Elsevier journal editors resign, start rival open-access journal (insidehighered.com)\n",
      "        778 points by dankohn1 17 hours ago  | hide | 101&nbsp;comments              \n",
      "      \n",
      "                \n",
      "      29.      Demystifying Radix Trees: How Radix trees made blocking IPs 5000 times faster (sqreen.io)\n",
      "        120 points by TaikiSan 11 hours ago  | hide | 63&nbsp;comments              \n",
      "      \n",
      "                \n",
      "      30.      Concept design for a post-LHC future circular collider at CERN (home.cern)\n",
      "        82 points by est31 9 hours ago  | hide | 59&nbsp;comments              \n",
      "      \n",
      "            More\n",
      "  \n",
      "\n",
      "Guidelines\n",
      "        | FAQ\n",
      "        | Support\n",
      "        | API\n",
      "        | Security\n",
      "        | Lists\n",
      "        | Bookmarklet\n",
      "        | Legal\n",
      "        | Apply to YC\n",
      "        | ContactSearch:\n",
      "          \n",
      "            \n",
      "      \n",
      "  \n",
      "\n"
     ]
    }
   ],
   "source": [
    "import re\n",
    "\n",
    "# Remove HTML tags using RegEx\n",
    "pattern = re.compile(r'<.*?>')  # tags look like <...>\n",
    "print(pattern.sub('', r.text))  # replace them with blank"
   ]
  },
  {
   "cell_type": "code",
   "execution_count": 7,
   "metadata": {},
   "outputs": [
    {
     "name": "stdout",
     "output_type": "stream",
     "text": [
      "\n",
      "            \n",
      "          \n",
      "        Hacker News\n",
      "        \n",
      "                  Hacker News\n",
      "              new | comments | ask | show | jobs | submit            \n",
      "                              login\n",
      "                          \n",
      "              \n",
      "\n",
      "              \n",
      "      1.      John C. Bogle, Founder of Vanguard Group, Dies (wsj.com)\n",
      "        571 points by gdubs 3 hours ago  | hide | 107 comments              \n",
      "      \n",
      "                \n",
      "      2.      Networking on AWS (grahamlyons.com)\n",
      "        242 points by petercooper 4 hours ago  | hide | 51 comments              \n",
      "      \n",
      "                \n",
      "      3.      How to Find Hidden Cameras and Spy Gear Like a Professional (senteltechsecurity.com)\n",
      "        114 points by loteck 3 hours ago  | hide | 30 comments              \n",
      "      \n",
      "                \n",
      "      4.      Tech Choices I Regret at Spectrum (mxstbr.com)\n",
      "        146 points by theBashShell 5 hours ago  | hide | 39 comments              \n",
      "      \n",
      "                \n",
      "      5.      DOJ: Hackers broke into an SEC database and made millions from inside info (cnbc.com)\n",
      "        367 points by djoldman 12 hours ago  | hide | 133 comments              \n",
      "      \n",
      "                \n",
      "      6.      Zillow CEO: startups trying to disrupt real estate commissions will fail (2012) (geekwire.com)\n",
      "        114 points by gamechangr 5 hours ago  | hide | 203 comments              \n",
      "      \n",
      "                \n",
      "      7.      After GDPR, The New York Times cut off ad exchanges and kept growing ad revenue (digiday.com)\n",
      "        497 points by chrisxcross 14 hours ago  | hide | 389 comments              \n",
      "      \n",
      "                \n",
      "      8.      Route of a Text Message (scottbot.net)\n",
      "        368 points by ericlott 11 hours ago  | hide | 47 comments              \n",
      "      \n",
      "                \n",
      "      9.      More than you really wanted to know about patch (landley.net)\n",
      "        40 points by signa11 3 hours ago  | hide | 1 comment              \n",
      "      \n",
      "                \n",
      "      10.      Cloud Functions: Go 1.11 is now a supported language (cloud.google.com)\n",
      "        179 points by yannikyeo 8 hours ago  | hide | 75 comments              \n",
      "      \n",
      "                \n",
      "      11.       Byju’s buys Osmo for $120M to add blended learning to its education business (techcrunch.com)\n",
      "        36 points by erohead 4 hours ago  | hide | 4 comments              \n",
      "      \n",
      "                \n",
      "      12.      Blockstream Satellite API: Pay with BTC via Lightning to Broadcast Data Globally (blockstream.com)\n",
      "        58 points by grubles 5 hours ago  | hide | 14 comments              \n",
      "      \n",
      "                \n",
      "      13.      New Pricing for G Suite Basic and Business Editions (cloud.google.com)\n",
      "        14 points by d99kris 1 hour ago  | hide | 9 comments              \n",
      "      \n",
      "                \n",
      "      14.      How The SAFE Has Changed And It What It Means For Equity (forbes.com)\n",
      "        28 points by commons-tragedy 4 hours ago  | hide | 2 comments              \n",
      "      \n",
      "                \n",
      "      15.      Two founders are not always better than one (mit.edu)\n",
      "        230 points by contingencies 12 hours ago  | hide | 71 comments              \n",
      "      \n",
      "                \n",
      "      16.      Ford: We're going to make F-Series all-electric (freep.com)\n",
      "        96 points by prostoalex 3 hours ago  | hide | 109 comments              \n",
      "      \n",
      "                \n",
      "      17.      Machine Learning Music Composed by Fragments of 100s of Terabytes of Recordings (nwn.blogs.com)\n",
      "        34 points by Kroeler 5 hours ago  | hide | 3 comments              \n",
      "      \n",
      "                \n",
      "      18.      Airbnb and security camera disclosure (jeffreybigham.com)\n",
      "        618 points by pmlnr 15 hours ago  | hide | 340 comments              \n",
      "      \n",
      "                \n",
      "      19.      Automating Datacenter Operations at Dropbox (dropbox.com)\n",
      "        17 points by dmicher 2 hours ago  | hide | 3 comments              \n",
      "      \n",
      "                \n",
      "      20.      ArangoDB: Multi-model highly available NoSQL database (arangodb.com)\n",
      "        39 points by giancarlostoro 3 hours ago  | hide | 14 comments              \n",
      "      \n",
      "                \n",
      "      21.      Genius cheese dish of slaves (bbc.com)\n",
      "        5 points by MiriamWeiner 1 hour ago  | hide | discuss              \n",
      "      \n",
      "                \n",
      "      22.      Crisis on the High Plains:The Loss of America’s Largest Aquifer – Ogallala(2018) (duwaterlawreview.com)\n",
      "        18 points by jelliclesfarm 2 hours ago  | hide | 4 comments              \n",
      "      \n",
      "                \n",
      "      23.      Illinois Bet on Video Gambling and Lost (propublica.org)\n",
      "        122 points by danso 10 hours ago  | hide | 158 comments              \n",
      "      \n",
      "                \n",
      "      24.      YC Series A Program Investor Access (ycombinator.com)\n",
      "        57 points by katm 6 hours ago  | hide | 7 comments              \n",
      "      \n",
      "                \n",
      "      25.      Sacklers Directed Efforts to Mislead Public About OxyContin, Documents Indicate (nytimes.com)\n",
      "        192 points by pseudolus 14 hours ago  | hide | 73 comments              \n",
      "      \n",
      "                \n",
      "      26.      AI Is About To Take The Ship's Helm Away From Humans (forbes.com)\n",
      "        9 points by howrude 2 hours ago  | hide | 3 comments              \n",
      "      \n",
      "                \n",
      "      27.      773M Record “Collection #1” Data Breach (troyhunt.com)\n",
      "        48 points by shritesh 4 hours ago  | hide | 10 comments              \n",
      "      \n",
      "                \n",
      "      28.      Elsevier journal editors resign, start rival open-access journal (insidehighered.com)\n",
      "        778 points by dankohn1 17 hours ago  | hide | 101 comments              \n",
      "      \n",
      "                \n",
      "      29.      Demystifying Radix Trees: How Radix trees made blocking IPs 5000 times faster (sqreen.io)\n",
      "        120 points by TaikiSan 11 hours ago  | hide | 63 comments              \n",
      "      \n",
      "                \n",
      "      30.      Concept design for a post-LHC future circular collider at CERN (home.cern)\n",
      "        82 points by est31 9 hours ago  | hide | 59 comments              \n",
      "      \n",
      "            More\n",
      "  \n",
      "\n",
      "Guidelines\n",
      "        | FAQ\n",
      "        | Support\n",
      "        | API\n",
      "        | Security\n",
      "        | Lists\n",
      "        | Bookmarklet\n",
      "        | Legal\n",
      "        | Apply to YC\n",
      "        | ContactSearch:\n",
      "          \n",
      "            \n",
      "      \n",
      "  \n",
      "\n"
     ]
    }
   ],
   "source": [
    "from bs4 import BeautifulSoup\n",
    "\n",
    "# Remove HTML tags using Beautiful Soup library\n",
    "soup = BeautifulSoup(r.text, \"html5lib\")\n",
    "print(soup.get_text())"
   ]
  },
  {
   "cell_type": "code",
   "execution_count": 8,
   "metadata": {
    "scrolled": true
   },
   "outputs": [
    {
     "data": {
      "text/plain": [
       "<tr class=\"athing\" id=\"18926225\">\n",
       "      <td align=\"right\" class=\"title\" valign=\"top\"><span class=\"rank\">1.</span></td>      <td class=\"votelinks\" valign=\"top\"><center><a href=\"vote?id=18926225&amp;how=up&amp;goto=news\" id=\"up_18926225\"><div class=\"votearrow\" title=\"upvote\"></div></a></center></td><td class=\"title\"><a class=\"storylink\" href=\"https://www.wsj.com/articles/john-c-bogle-founder-of-vanguard-group-dies-11547677745\">John C. Bogle, Founder of Vanguard Group, Dies</a><span class=\"sitebit comhead\"> (<a href=\"from?site=wsj.com\"><span class=\"sitestr\">wsj.com</span></a>)</span></td></tr>"
      ]
     },
     "execution_count": 8,
     "metadata": {},
     "output_type": "execute_result"
    }
   ],
   "source": [
    "# Find all articles\n",
    "summaries = soup.find_all(\"tr\", class_=\"athing\")\n",
    "summaries[0]"
   ]
  },
  {
   "cell_type": "code",
   "execution_count": 9,
   "metadata": {},
   "outputs": [
    {
     "data": {
      "text/plain": [
       "'John C. Bogle, Founder of Vanguard Group, Dies'"
      ]
     },
     "execution_count": 9,
     "metadata": {},
     "output_type": "execute_result"
    }
   ],
   "source": [
    "# Extract title\n",
    "summaries[0].find(\"a\", class_=\"storylink\").get_text().strip()"
   ]
  },
  {
   "cell_type": "code",
   "execution_count": 10,
   "metadata": {},
   "outputs": [
    {
     "name": "stdout",
     "output_type": "stream",
     "text": [
      "30 Article summaries found. Sample:\n",
      "John C. Bogle, Founder of Vanguard Group, Dies\n"
     ]
    }
   ],
   "source": [
    "# Find all articles, extract titles\n",
    "articles = []\n",
    "summaries = soup.find_all(\"tr\", class_=\"athing\")\n",
    "for summary in summaries:\n",
    "    title = summary.find(\"a\", class_=\"storylink\").get_text().strip()\n",
    "    articles.append((title))\n",
    "\n",
    "print(len(articles), \"Article summaries found. Sample:\")\n",
    "print(articles[0])"
   ]
  },
  {
   "cell_type": "markdown",
   "metadata": {
    "collapsed": true
   },
   "source": [
    "## Normalization"
   ]
  },
  {
   "cell_type": "markdown",
   "metadata": {},
   "source": [
    "### Case Normalization"
   ]
  },
  {
   "cell_type": "code",
   "execution_count": 11,
   "metadata": {},
   "outputs": [
    {
     "name": "stdout",
     "output_type": "stream",
     "text": [
      "The first time you see The Second Renaissance it may look boring. Look at it at least twice and definitely watch part 2. It will change your view of the matrix. Are the human people the ones who started the war ? Is AI a bad thing ?\n"
     ]
    }
   ],
   "source": [
    "# Sample text\n",
    "text = \"The first time you see The Second Renaissance it may look boring. Look at it at least twice and definitely watch part 2. It will change your view of the matrix. Are the human people the ones who started the war ? Is AI a bad thing ?\"\n",
    "print(text)"
   ]
  },
  {
   "cell_type": "code",
   "execution_count": 12,
   "metadata": {},
   "outputs": [
    {
     "name": "stdout",
     "output_type": "stream",
     "text": [
      "the first time you see the second renaissance it may look boring. look at it at least twice and definitely watch part 2. it will change your view of the matrix. are the human people the ones who started the war ? is ai a bad thing ?\n"
     ]
    }
   ],
   "source": [
    "# Convert to lowercase\n",
    "text = text.lower() \n",
    "print(text)"
   ]
  },
  {
   "cell_type": "markdown",
   "metadata": {},
   "source": [
    "### Punctuation Removal"
   ]
  },
  {
   "cell_type": "code",
   "execution_count": 13,
   "metadata": {},
   "outputs": [
    {
     "name": "stdout",
     "output_type": "stream",
     "text": [
      "the first time you see the second renaissance it may look boring  look at it at least twice and definitely watch part 2  it will change your view of the matrix  are the human people the ones who started the war   is ai a bad thing  \n"
     ]
    }
   ],
   "source": [
    "import re\n",
    "\n",
    "# Remove punctuation characters\n",
    "text = re.sub(r\"[^a-zA-Z0-9]\", \" \", text) \n",
    "print(text)"
   ]
  },
  {
   "cell_type": "markdown",
   "metadata": {},
   "source": [
    "## Tokenization"
   ]
  },
  {
   "cell_type": "code",
   "execution_count": 14,
   "metadata": {},
   "outputs": [
    {
     "name": "stdout",
     "output_type": "stream",
     "text": [
      "['the', 'first', 'time', 'you', 'see', 'the', 'second', 'renaissance', 'it', 'may', 'look', 'boring', 'look', 'at', 'it', 'at', 'least', 'twice', 'and', 'definitely', 'watch', 'part', '2', 'it', 'will', 'change', 'your', 'view', 'of', 'the', 'matrix', 'are', 'the', 'human', 'people', 'the', 'ones', 'who', 'started', 'the', 'war', 'is', 'ai', 'a', 'bad', 'thing']\n"
     ]
    }
   ],
   "source": [
    "# Split text into tokens (words)\n",
    "words = text.split()\n",
    "print(words)"
   ]
  },
  {
   "cell_type": "markdown",
   "metadata": {},
   "source": [
    "### NLTK: Natural Language ToolKit"
   ]
  },
  {
   "cell_type": "code",
   "execution_count": 15,
   "metadata": {},
   "outputs": [],
   "source": [
    "import os\n",
    "import nltk\n",
    "nltk.data.path.append(os.path.join(os.getcwd(), \"nltk_data\"))"
   ]
  },
  {
   "cell_type": "code",
   "execution_count": 16,
   "metadata": {},
   "outputs": [
    {
     "name": "stdout",
     "output_type": "stream",
     "text": [
      "Dr. Smith graduated from the University of Washington. He later started an analytics firm called Lux, which catered to enterprise customers.\n"
     ]
    }
   ],
   "source": [
    "# Another sample text\n",
    "text = \"Dr. Smith graduated from the University of Washington. He later started an analytics firm called Lux, which catered to enterprise customers.\"\n",
    "print(text)"
   ]
  },
  {
   "cell_type": "code",
   "execution_count": 17,
   "metadata": {},
   "outputs": [
    {
     "name": "stdout",
     "output_type": "stream",
     "text": [
      "['Dr.', 'Smith', 'graduated', 'from', 'the', 'University', 'of', 'Washington', '.', 'He', 'later', 'started', 'an', 'analytics', 'firm', 'called', 'Lux', ',', 'which', 'catered', 'to', 'enterprise', 'customers', '.']\n"
     ]
    }
   ],
   "source": [
    "from nltk.tokenize import word_tokenize\n",
    "\n",
    "# Split text into words using NLTK\n",
    "words = word_tokenize(text)\n",
    "print(words)"
   ]
  },
  {
   "cell_type": "code",
   "execution_count": 18,
   "metadata": {},
   "outputs": [
    {
     "name": "stdout",
     "output_type": "stream",
     "text": [
      "['Dr. Smith graduated from the University of Washington.', 'He later started an analytics firm called Lux, which catered to enterprise customers.']\n"
     ]
    }
   ],
   "source": [
    "from nltk.tokenize import sent_tokenize\n",
    "\n",
    "# Split text into sentences\n",
    "sentences = sent_tokenize(text)\n",
    "print(sentences)"
   ]
  },
  {
   "cell_type": "code",
   "execution_count": 19,
   "metadata": {},
   "outputs": [
    {
     "name": "stdout",
     "output_type": "stream",
     "text": [
      "['i', 'me', 'my', 'myself', 'we', 'our', 'ours', 'ourselves', 'you', \"you're\", \"you've\", \"you'll\", \"you'd\", 'your', 'yours', 'yourself', 'yourselves', 'he', 'him', 'his', 'himself', 'she', \"she's\", 'her', 'hers', 'herself', 'it', \"it's\", 'its', 'itself', 'they', 'them', 'their', 'theirs', 'themselves', 'what', 'which', 'who', 'whom', 'this', 'that', \"that'll\", 'these', 'those', 'am', 'is', 'are', 'was', 'were', 'be', 'been', 'being', 'have', 'has', 'had', 'having', 'do', 'does', 'did', 'doing', 'a', 'an', 'the', 'and', 'but', 'if', 'or', 'because', 'as', 'until', 'while', 'of', 'at', 'by', 'for', 'with', 'about', 'against', 'between', 'into', 'through', 'during', 'before', 'after', 'above', 'below', 'to', 'from', 'up', 'down', 'in', 'out', 'on', 'off', 'over', 'under', 'again', 'further', 'then', 'once', 'here', 'there', 'when', 'where', 'why', 'how', 'all', 'any', 'both', 'each', 'few', 'more', 'most', 'other', 'some', 'such', 'no', 'nor', 'not', 'only', 'own', 'same', 'so', 'than', 'too', 'very', 's', 't', 'can', 'will', 'just', 'don', \"don't\", 'should', \"should've\", 'now', 'd', 'll', 'm', 'o', 're', 've', 'y', 'ain', 'aren', \"aren't\", 'couldn', \"couldn't\", 'didn', \"didn't\", 'doesn', \"doesn't\", 'hadn', \"hadn't\", 'hasn', \"hasn't\", 'haven', \"haven't\", 'isn', \"isn't\", 'ma', 'mightn', \"mightn't\", 'mustn', \"mustn't\", 'needn', \"needn't\", 'shan', \"shan't\", 'shouldn', \"shouldn't\", 'wasn', \"wasn't\", 'weren', \"weren't\", 'won', \"won't\", 'wouldn', \"wouldn't\"]\n"
     ]
    }
   ],
   "source": [
    "# List stop words\n",
    "from nltk.corpus import stopwords\n",
    "print(stopwords.words(\"english\"))"
   ]
  },
  {
   "cell_type": "code",
   "execution_count": 20,
   "metadata": {},
   "outputs": [
    {
     "name": "stdout",
     "output_type": "stream",
     "text": [
      "['the', 'first', 'time', 'you', 'see', 'the', 'second', 'renaissance', 'it', 'may', 'look', 'boring', 'look', 'at', 'it', 'at', 'least', 'twice', 'and', 'definitely', 'watch', 'part', '2', 'it', 'will', 'change', 'your', 'view', 'of', 'the', 'matrix', 'are', 'the', 'human', 'people', 'the', 'ones', 'who', 'started', 'the', 'war', 'is', 'ai', 'a', 'bad', 'thing']\n"
     ]
    }
   ],
   "source": [
    "# Reset text\n",
    "text = \"The first time you see The Second Renaissance it may look boring. Look at it at least twice and definitely watch part 2. It will change your view of the matrix. Are the human people the ones who started the war ? Is AI a bad thing ?\"\n",
    "\n",
    "# Normalize it\n",
    "text = re.sub(r\"[^a-zA-Z0-9]\", \" \", text.lower())\n",
    "\n",
    "# Tokenize it\n",
    "words = text.split()\n",
    "print(words)"
   ]
  },
  {
   "cell_type": "code",
   "execution_count": 21,
   "metadata": {},
   "outputs": [
    {
     "name": "stdout",
     "output_type": "stream",
     "text": [
      "['first', 'time', 'see', 'second', 'renaissance', 'may', 'look', 'boring', 'look', 'least', 'twice', 'definitely', 'watch', 'part', '2', 'change', 'view', 'matrix', 'human', 'people', 'ones', 'started', 'war', 'ai', 'bad', 'thing']\n"
     ]
    }
   ],
   "source": [
    "# Remove stop words\n",
    "words = [w for w in words if w not in stopwords.words(\"english\")]\n",
    "print(words)"
   ]
  },
  {
   "cell_type": "markdown",
   "metadata": {},
   "source": [
    "### Sentence Parsing"
   ]
  },
  {
   "cell_type": "code",
   "execution_count": 22,
   "metadata": {},
   "outputs": [
    {
     "name": "stdout",
     "output_type": "stream",
     "text": [
      "(S\n",
      "  (NP I)\n",
      "  (VP\n",
      "    (VP (V shot) (NP (Det an) (N elephant)))\n",
      "    (PP (P in) (NP (Det my) (N pajamas)))))\n",
      "(S\n",
      "  (NP I)\n",
      "  (VP\n",
      "    (V shot)\n",
      "    (NP (Det an) (N elephant) (PP (P in) (NP (Det my) (N pajamas))))))\n"
     ]
    }
   ],
   "source": [
    "import nltk\n",
    "\n",
    "# Define a custom grammar\n",
    "my_grammar = nltk.CFG.fromstring(\"\"\"\n",
    "S -> NP VP\n",
    "PP -> P NP\n",
    "NP -> Det N | Det N PP | 'I'\n",
    "VP -> V NP | VP PP\n",
    "Det -> 'an' | 'my'\n",
    "N -> 'elephant' | 'pajamas'\n",
    "V -> 'shot'\n",
    "P -> 'in'\n",
    "\"\"\")\n",
    "parser = nltk.ChartParser(my_grammar)\n",
    "\n",
    "# Parse a sentence\n",
    "sentence = word_tokenize(\"I shot an elephant in my pajamas\")\n",
    "for tree in parser.parse(sentence):\n",
    "    print(tree)"
   ]
  },
  {
   "cell_type": "markdown",
   "metadata": {},
   "source": [
    "## Stemming & Lemmatization\n",
    "\n",
    "### Stemming"
   ]
  },
  {
   "cell_type": "code",
   "execution_count": 23,
   "metadata": {},
   "outputs": [
    {
     "name": "stdout",
     "output_type": "stream",
     "text": [
      "['first', 'time', 'see', 'second', 'renaiss', 'may', 'look', 'bore', 'look', 'least', 'twice', 'definit', 'watch', 'part', '2', 'chang', 'view', 'matrix', 'human', 'peopl', 'one', 'start', 'war', 'ai', 'bad', 'thing']\n"
     ]
    }
   ],
   "source": [
    "from nltk.stem.porter import PorterStemmer\n",
    "\n",
    "# Reduce words to their stems\n",
    "stemmed = [PorterStemmer().stem(w) for w in words]\n",
    "print(stemmed)"
   ]
  },
  {
   "cell_type": "markdown",
   "metadata": {},
   "source": [
    "### Lemmatization"
   ]
  },
  {
   "cell_type": "code",
   "execution_count": 24,
   "metadata": {},
   "outputs": [
    {
     "name": "stdout",
     "output_type": "stream",
     "text": [
      "['first', 'time', 'see', 'second', 'renaissance', 'may', 'look', 'boring', 'look', 'least', 'twice', 'definitely', 'watch', 'part', '2', 'change', 'view', 'matrix', 'human', 'people', 'one', 'started', 'war', 'ai', 'bad', 'thing']\n"
     ]
    }
   ],
   "source": [
    "from nltk.stem.wordnet import WordNetLemmatizer\n",
    "\n",
    "# Reduce words to their root form\n",
    "lemmed = [WordNetLemmatizer().lemmatize(w) for w in words]\n",
    "print(lemmed)"
   ]
  },
  {
   "cell_type": "code",
   "execution_count": 25,
   "metadata": {},
   "outputs": [
    {
     "name": "stdout",
     "output_type": "stream",
     "text": [
      "['first', 'time', 'see', 'second', 'renaissance', 'may', 'look', 'bore', 'look', 'least', 'twice', 'definitely', 'watch', 'part', '2', 'change', 'view', 'matrix', 'human', 'people', 'one', 'start', 'war', 'ai', 'bad', 'thing']\n"
     ]
    }
   ],
   "source": [
    "# Lemmatize verbs by specifying pos\n",
    "lemmed = [WordNetLemmatizer().lemmatize(w, pos='v') for w in lemmed]\n",
    "print(lemmed)"
   ]
  },
  {
   "cell_type": "code",
   "execution_count": null,
   "metadata": {},
   "outputs": [],
   "source": []
  }
 ],
 "metadata": {
  "kernelspec": {
   "display_name": "Python 3",
   "language": "python",
   "name": "python3"
  },
  "language_info": {
   "codemirror_mode": {
    "name": "ipython",
    "version": 3
   },
   "file_extension": ".py",
   "mimetype": "text/x-python",
   "name": "python",
   "nbconvert_exporter": "python",
   "pygments_lexer": "ipython3",
   "version": "3.6.3"
  }
 },
 "nbformat": 4,
 "nbformat_minor": 2
}
